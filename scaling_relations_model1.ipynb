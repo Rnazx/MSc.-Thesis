{
 "cells": [
  {
   "cell_type": "code",
   "execution_count": 44,
   "metadata": {},
   "outputs": [],
   "source": [
    "import numpy as np\n",
    "import matplotlib.pyplot as plt\n",
    "from sympy import *"
   ]
  },
  {
   "cell_type": "code",
   "execution_count": 45,
   "metadata": {},
   "outputs": [
    {
     "data": {
      "text/latex": [
       "$\\displaystyle \\Sigma_{tot}$"
      ],
      "text/plain": [
       "Sigma_tot"
      ]
     },
     "execution_count": 45,
     "metadata": {},
     "output_type": "execute_result"
    }
   ],
   "source": [
    " #Defining the Observables\n",
    "q = Symbol('q')\n",
    "omega = Symbol('\\Omega')\n",
    "sigma = Symbol('\\Sigma')\n",
    "sigmatot = Symbol('Sigma_tot')\n",
    "sigmasfr = Symbol('Sigma_SFR')\n",
    "T = Symbol('T')\n",
    "\n",
    "\n",
    "#Defining the Constants\n",
    "calpha = Symbol('C_alpha')\n",
    "gamma = Symbol('gamma')\n",
    "boltz = Symbol('k_B')\n",
    "mu = Symbol('mu')\n",
    "mh = Symbol('m_H')\n",
    "G = Symbol('G')\n",
    "xio = Symbol('xi_0')\n",
    "delta = Symbol('\\delta')\n",
    "mstar = Symbol('m_*')\n",
    "cl = Symbol('C_l')\n",
    "kappa = Symbol('kappa')\n",
    "\n",
    "#Defining the general parameters\n",
    "u = Symbol('u')\n",
    "tau = Symbol('tau')\n",
    "l = Symbol('l')\n",
    "mach = Symbol('M')\n",
    "\n",
    "\n",
    "#Defining the expressions\n",
    "cs = (gamma*boltz*T/(mu*mh))**Rational(1/2)\n",
    "h = (u**2 + 2*cs**2)/(3*pi*G*sigmatot)\n",
    "nu = (delta*sigmasfr)/(2*h*mstar)\n",
    "alphak = calpha*tau**2*(u**2)*omega/h\n",
    "# Ralpha = alphak*h/eta\n",
    "# Romega = -q*omega*h**2/eta\n",
    "\n",
    "\n",
    "sigmatot\n"
   ]
  },
  {
   "cell_type": "markdown",
   "metadata": {},
   "source": [
    "## Model 1"
   ]
  },
  {
   "cell_type": "markdown",
   "metadata": {},
   "source": [
    "### Evaluating expressions"
   ]
  },
  {
   "cell_type": "code",
   "execution_count": 46,
   "metadata": {},
   "outputs": [
    {
     "data": {
      "text/latex": [
       "$\\displaystyle \\frac{T \\gamma k_{B} \\left(M^{2} + 2\\right)}{3 \\pi G \\Sigma_{tot} m_{H} \\mu}$"
      ],
      "text/plain": [
       "T*gamma*k_B*(M**2 + 2)/(3*pi*G*Sigma_tot*m_H*mu)"
      ]
     },
     "execution_count": 46,
     "metadata": {},
     "output_type": "execute_result"
    }
   ],
   "source": [
    "l = cl*h\n",
    "a = [(u,mach*cs)]\n",
    "h = simplify(h.subs(a))\n",
    "h"
   ]
  },
  {
   "cell_type": "code",
   "execution_count": 47,
   "metadata": {},
   "outputs": [
    {
     "data": {
      "text/latex": [
       "$\\displaystyle \\frac{C_{l} T \\gamma k_{B} \\left(M^{2} + 2\\right)}{3 \\pi G \\Sigma_{tot} m_{H} \\mu}$"
      ],
      "text/plain": [
       "C_l*T*gamma*k_B*(M**2 + 2)/(3*pi*G*Sigma_tot*m_H*mu)"
      ]
     },
     "execution_count": 47,
     "metadata": {},
     "output_type": "execute_result"
    }
   ],
   "source": [
    "l= simplify(l.subs(a))\n",
    "l"
   ]
  },
  {
   "cell_type": "code",
   "execution_count": 48,
   "metadata": {},
   "outputs": [
    {
     "data": {
      "text/latex": [
       "$\\displaystyle M \\sqrt{\\frac{T \\gamma k_{B}}{m_{H} \\mu}}$"
      ],
      "text/plain": [
       "M*sqrt(T*gamma*k_B/(m_H*mu))"
      ]
     },
     "execution_count": 48,
     "metadata": {},
     "output_type": "execute_result"
    }
   ],
   "source": [
    "u = simplify(u.subs(a))\n",
    "u"
   ]
  },
  {
   "cell_type": "code",
   "execution_count": 49,
   "metadata": {},
   "outputs": [
    {
     "data": {
      "text/latex": [
       "$\\displaystyle \\frac{C_{l} \\sqrt{\\frac{T \\gamma k_{B}}{m_{H} \\mu}} \\left(M^{2} + 2\\right)}{3 \\pi G M \\Sigma_{tot}}$"
      ],
      "text/plain": [
       "C_l*sqrt(T*gamma*k_B/(m_H*mu))*(M**2 + 2)/(3*pi*G*M*Sigma_tot)"
      ]
     },
     "execution_count": 49,
     "metadata": {},
     "output_type": "execute_result"
    }
   ],
   "source": [
    "tau = l/u\n",
    "tau = simplify(tau.subs(a))\n",
    "tau"
   ]
  },
  {
   "cell_type": "code",
   "execution_count": 50,
   "metadata": {},
   "outputs": [
    {
     "data": {
      "text/latex": [
       "$\\displaystyle \\frac{\\sqrt{6} \\pi M \\xi_{0}^{0.5} \\sqrt{\\frac{G \\Sigma_{tot} \\Sigma}{M^{2} + 2}}}{\\max\\left(1, M\\right)}$"
      ],
      "text/plain": [
       "sqrt(6)*pi*M*xi_0**0.5*sqrt(G*Sigma_tot*\\Sigma/(M**2 + 2))/Max(1, M)"
      ]
     },
     "execution_count": 50,
     "metadata": {},
     "output_type": "execute_result"
    }
   ],
   "source": [
    "rho = sigma/(2*h)\n",
    "Beq = u*(4*pi*rho)**Rational(1/2)\n",
    "biso = (Beq*(xio**(1/2)))/Max(1,mach)\n",
    "biso = simplify(biso.subs(a))\n",
    "biso = biso.powsimp(force = True)\n",
    "biso"
   ]
  },
  {
   "cell_type": "code",
   "execution_count": 51,
   "metadata": {},
   "outputs": [
    {
     "data": {
      "text/latex": [
       "$\\displaystyle \\frac{3 \\sqrt{667199944795629} \\sqrt{\\pi} M \\xi_{0}^{0.5} \\sqrt{\\frac{C_{l} \\Omega \\Sigma q \\sqrt{\\frac{T \\gamma k_{B}}{m_{H} \\mu}}}{M}}}{67108864 \\max\\left(1, M\\right)}$"
      ],
      "text/plain": [
       "3*sqrt(667199944795629)*sqrt(pi)*M*xi_0**0.5*sqrt(C_l*\\Omega*\\Sigma*q*sqrt(T*gamma*k_B/(m_H*mu))/M)/(67108864*Max(1, M))"
      ]
     },
     "execution_count": 51,
     "metadata": {},
     "output_type": "execute_result"
    }
   ],
   "source": [
    "bani = biso*(Rational(2/3)*q*omega)**Rational(1/2)*(tau**Rational(1/2))\n",
    "\n",
    "bani = simplify(bani.subs(a))\n",
    "bani = bani.powsimp(force = True)\n",
    "bani"
   ]
  },
  {
   "cell_type": "code",
   "execution_count": 52,
   "metadata": {},
   "outputs": [
    {
     "data": {
      "text/latex": [
       "$\\displaystyle \\frac{8 \\sqrt{3} C_{l} M \\sqrt{\\frac{C_{\\alpha} R_{k} T \\Omega^{2} \\Sigma \\gamma k_{B} q \\left(M^{2} + 2\\right)}{G M^{2} \\Sigma_{tot} m_{H} \\mu}}}{\\pi^{\\frac{3}{2}}}$"
      ],
      "text/plain": [
       "8*sqrt(3)*C_l*M*sqrt(C_alpha*R_k*T*\\Omega**2*\\Sigma*gamma*k_B*q*(M**2 + 2)/(G*M**2*Sigma_tot*m_H*mu))/pi**(3/2)"
      ]
     },
     "execution_count": 52,
     "metadata": {},
     "output_type": "execute_result"
    }
   ],
   "source": [
    "eta = tau*(u**2)/3\n",
    "Rk = Symbol('R_k')\n",
    "Dk = -(9*calpha*q*(h**2)*(omega**2))/u**2\n",
    "Dc = -(pi**5)/32\n",
    "rho = sigma/(2*h)\n",
    "Beq = (4*pi*rho)**Rational(1/2)*u\n",
    "Bbar = (pi*Beq*l*(Rk*(Dk/Dc))**Rational(1/2))/h\n",
    "\n",
    "Bbar = simplify(Bbar.subs(a))\n",
    "Bbar = Bbar.powsimp(force = True)\n",
    "Bbar\n"
   ]
  },
  {
   "cell_type": "code",
   "execution_count": 53,
   "metadata": {},
   "outputs": [
    {
     "data": {
      "text/latex": [
       "$\\displaystyle - \\frac{\\pi^{3} C_{l} G M \\Sigma_{tot} m_{H} \\mu \\sqrt{\\frac{T \\gamma k_{B}}{m_{H} \\mu}}}{4 T \\Omega \\gamma k_{B} q \\left(M^{2} + 2\\right)}$"
      ],
      "text/plain": [
       "-pi**3*C_l*G*M*Sigma_tot*m_H*mu*sqrt(T*gamma*k_B/(m_H*mu))/(4*T*\\Omega*gamma*k_B*q*(M**2 + 2))"
      ]
     },
     "execution_count": 53,
     "metadata": {},
     "output_type": "execute_result"
    }
   ],
   "source": [
    "tanpb = -((pi**2)*tau*(u**2))/(12*q*omega*(h**2))\n",
    "tanpb = simplify(tanpb.subs(a))\n",
    "tanpb = tanpb.subs([(tau,tau),(l,l)])\n",
    "tanpb = simplify(tanpb)\n",
    "tanpb"
   ]
  },
  {
   "cell_type": "code",
   "execution_count": 54,
   "metadata": {},
   "outputs": [
    {
     "name": "stdout",
     "output_type": "stream",
     "text": [
      "The power to which the observable Sigma_tot is raised is: -1/2\n"
     ]
    },
    {
     "data": {
      "image/png": "[encoded data removed]",
      "text/plain": [
       "<Figure size 432x288 with 1 Axes>"
      ]
     },
     "metadata": {
      "needs_background": "light"
     },
     "output_type": "display_data"
    },
    {
     "name": "stdout",
     "output_type": "stream",
     "text": [
      "The power to which the observable \\Sigma is raised is: 1/2\n"
     ]
    },
    {
     "data": {
      "image/png": "[encoded data removed]",
      "text/plain": [
       "<Figure size 432x288 with 1 Axes>"
      ]
     },
     "metadata": {
      "needs_background": "light"
     },
     "output_type": "display_data"
    },
    {
     "name": "stdout",
     "output_type": "stream",
     "text": [
      "The power to which the observable Sigma_SFR is raised is: 0\n"
     ]
    },
    {
     "data": {
      "image/png": "[encoded data removed]",
      "text/plain": [
       "<Figure size 432x288 with 1 Axes>"
      ]
     },
     "metadata": {
      "needs_background": "light"
     },
     "output_type": "display_data"
    },
    {
     "name": "stdout",
     "output_type": "stream",
     "text": [
      "The power to which the observable \\Omega is raised is: 1\n"
     ]
    },
    {
     "data": {
      "image/png": "[encoded data removed]",
      "text/plain": [
       "<Figure size 432x288 with 1 Axes>"
      ]
     },
     "metadata": {
      "needs_background": "light"
     },
     "output_type": "display_data"
    },
    {
     "name": "stdout",
     "output_type": "stream",
     "text": [
      "The power to which the observable q is raised is: 1/2\n"
     ]
    },
    {
     "data": {
      "image/png": "[encoded data removed]",
      "text/plain": [
       "<Figure size 432x288 with 1 Axes>"
      ]
     },
     "metadata": {
      "needs_background": "light"
     },
     "output_type": "display_data"
    },
    {
     "name": "stdout",
     "output_type": "stream",
     "text": [
      "The power to which the observable T is raised is: 1/2\n"
     ]
    },
    {
     "data": {
      "image/png": "[encoded data removed]",
      "text/plain": [
       "<Figure size 432x288 with 1 Axes>"
      ]
     },
     "metadata": {
      "needs_background": "light"
     },
     "output_type": "display_data"
    },
    {
     "name": "stdout",
     "output_type": "stream",
     "text": [
      "The scaling relation is \n"
     ]
    },
    {
     "data": {
      "text/latex": [
       "$\\displaystyle \\frac{\\sqrt{T} \\Omega \\sqrt{\\Sigma} \\sqrt{q}}{\\sqrt{\\Sigma_{tot}}}$"
      ],
      "text/plain": [
       "sqrt(T)*\\Omega*sqrt(\\Sigma)*sqrt(q)/sqrt(Sigma_tot)"
      ]
     },
     "execution_count": 54,
     "metadata": {},
     "output_type": "execute_result"
    }
   ],
   "source": [
    "from sympy.plotting import plot3d, plot\n",
    "const = [(gamma,1),(boltz,1),(mh,2),(mu,1),(mach,sqrt(2)),(G,1),(cl,5),(xio,0.4),(kappa,1),(calpha,1), (Rk,1)]\n",
    "variables = [(sigmatot,1), (sigma,1),(sigmasfr,1) , (omega,1), (q,1), (T,1)]\n",
    "\n",
    "#quantity to be plotted\n",
    "quan = Bbar\n",
    "#observable to be varied\n",
    "observ = [variables[i][0] for i in range(len(variables))]\n",
    "#powers for scaling relations\n",
    "powe = []\n",
    "#plotting the scaling relations\n",
    "for obs in observ:\n",
    "    variables = [(sigmatot,1), (sigma,1),(sigmasfr,1) , (omega,1), (q,1), (T,1)]\n",
    "    variables.remove((obs,1))\n",
    "    final = const + variables\n",
    "    z = quan.subs(final)\n",
    "    powe.append(diff(log(z),obs)*obs)\n",
    "    print('The power to which the observable {} is raised is: {}'.format(str(obs), diff(log(z),obs)*obs))\n",
    "    p = plot(z, (obs, 1, 1000), xscale = 'log', yscale = 'log',xlabel = obs, ylabel = 'Quantity')\n",
    "    p.show\n",
    "    \n",
    "#verifying scaling relation\n",
    "scaling = np.power(observ, powe)\n",
    "relation = 1\n",
    "for i in scaling:\n",
    "    relation *= i\n",
    "\n",
    "print('The scaling relation is ')\n",
    "relation\n"
   ]
  },
  {
   "cell_type": "code",
   "execution_count": 27,
   "metadata": {},
   "outputs": [],
   "source": [
    "names =  ['M31', 'M33', 'M51', 'M81', 'NGC253', 'NGC1566', 'NGC6946', 'IC342']"
   ]
  },
  {
   "cell_type": "code",
   "execution_count": 55,
   "metadata": {},
   "outputs": [],
   "source": [
    "omegadat = [38.4, 24.9, 46.7, 31.7, 50.9, 62.1, 52.4, 38.2, 48.1, 28.1 ]\n",
    "qdat = [0.75, 0.84, 0.87, 1.24, 0.97, 1.00, 0.95, 0.96, 0.86, 1.05]\n",
    "sigmatotdat = np.array([1.47, 9.43, 8.98, 3.33, 3.28, 3.13, 4.31, 9.69, 6.30, 6.41])\n",
    "nan = 'nodata'\n",
    "sigmasfrdat = [0.443, 3.99, 18.0, nan, 35.1, nan, nan, nan, 20.2, nan]"
   ]
  },
  {
   "cell_type": "code",
   "execution_count": 56,
   "metadata": {},
   "outputs": [],
   "source": [
    "pbdat = np.array([-13, -41, -22, -21, -25, -23, -17, -20, -27, -21])\n",
    "errpb = np.array([4,2,4,7,5,2,1,5,2,2])\n",
    "Bbardat = [4.8,0.3,2.5,nan,4.4,1.9,0.8,nan,nan]\n",
    "tanpbdat = np.tan(pb)"
   ]
  },
  {
   "cell_type": "code",
   "execution_count": 57,
   "metadata": {},
   "outputs": [
    {
     "data": {
      "text/latex": [
       "$\\displaystyle - \\frac{\\pi^{3} C_{l} G M \\Sigma_{tot} m_{H} \\mu \\sqrt{\\frac{T \\gamma k_{B}}{m_{H} \\mu}}}{4 T \\Omega \\gamma k_{B} q \\left(M^{2} + 2\\right)}$"
      ],
      "text/plain": [
       "-pi**3*C_l*G*M*Sigma_tot*m_H*mu*sqrt(T*gamma*k_B/(m_H*mu))/(4*T*\\Omega*gamma*k_B*q*(M**2 + 2))"
      ]
     },
     "execution_count": 57,
     "metadata": {},
     "output_type": "execute_result"
    }
   ],
   "source": [
    "tanpb"
   ]
  },
  {
   "cell_type": "code",
   "execution_count": 68,
   "metadata": {},
   "outputs": [
    {
     "data": {
      "text/latex": [
       "$\\displaystyle - 1.63896890901974 \\cdot 10^{-5} \\pi^{3} \\Sigma_{tot}$"
      ],
      "text/plain": [
       "-1.63896890901974e-5*pi**3*Sigma_tot"
      ]
     },
     "execution_count": 68,
     "metadata": {},
     "output_type": "execute_result"
    }
   ],
   "source": [
    "\n",
    "from sympy.plotting import plot3d, plot\n",
    "const = [(gamma,1.5),(boltz,1.38e-23),(mh,1),(mu,1),(mach,1),(G,6.67e-11),(cl,1),(xio,0.4),(kappa,1),(calpha,1), (Rk,1)]\n",
    "exp = tanpb.subs(const)\n",
    "variables = [(sigmatot,1), (sigma,20**(1/1.4)),(sigmasfr,20) , (omega,50), (q,1), (T,2222477.594)]\n",
    "\n",
    "#quantity to be plotted\n",
    "quan = tanpb\n",
    "#observable to be varied\n",
    "observ = [variables[i][0] for i in range(len(variables))]\n",
    "#plotting the scaling relations\n",
    "obs = sigmatot\n",
    "\n",
    "variables.remove((obs,1))\n",
    "final = const + variables\n",
    "z = quan.subs(final)\n",
    "z"
   ]
  },
  {
   "cell_type": "code",
   "execution_count": 69,
   "metadata": {},
   "outputs": [
    {
     "data": {
      "text/plain": [
       "array([-0.000747029354913085, -0.00479216790260571, -0.00456348544702007,\n",
       "       -0.00169225017133372, -0.00166684100960198, -0.00159061352440677,\n",
       "       -0.00219026974127578, -0.00492429554361074, -0.00320155437819893,\n",
       "       -0.00325745453400876], dtype=object)"
      ]
     },
     "execution_count": 69,
     "metadata": {},
     "output_type": "execute_result"
    }
   ],
   "source": [
    "scalreldata = []\n",
    "for s in sigmatotdat:\n",
    "    scalreldata.append(z.evalf(subs={sigmatot:s}))\n",
    "scalreldata = np.array(scalreldata)\n",
    "scalreldata"
   ]
  },
  {
   "cell_type": "code",
   "execution_count": 70,
   "metadata": {},
   "outputs": [
    {
     "name": "stderr",
     "output_type": "stream",
     "text": [
      "C:\\Users\\WS7\\AppData\\Local\\Temp/ipykernel_13584/1955858082.py:4: MatplotlibDeprecationWarning: The 'b' parameter of grid() has been renamed 'visible' since Matplotlib 3.5; support for the old name will be dropped two minor releases later.\n",
      "  plt.grid(b=True, which='major', color= [.6,.6,.6], linestyle='-')\n",
      "C:\\Users\\WS7\\AppData\\Local\\Temp/ipykernel_13584/1955858082.py:5: MatplotlibDeprecationWarning: The 'b' parameter of grid() has been renamed 'visible' since Matplotlib 3.5; support for the old name will be dropped two minor releases later.\n",
      "  plt.grid(b=True, which='minor', color= [.6,.6,.6], linestyle=':')\n"
     ]
    },
    {
     "data": {
      "image/png": "[encoded data removed]",
      "text/plain": [
       "<Figure size 432x288 with 1 Axes>"
      ]
     },
     "metadata": {
      "needs_background": "light"
     },
     "output_type": "display_data"
    }
   ],
   "source": [
    "plt.errorbar(sigmatotdat, tanpbdat, yerr=errpb, fmt = 'o', mfc='red',\n",
    "         mec='green', ms=4, mew=4, capsize = 4)\n",
    "plt.scatter(sigmatotdat, scalreldata, c = 'r')\n",
    "plt.grid(b=True, which='major', color= [.6,.6,.6], linestyle='-')\n",
    "plt.grid(b=True, which='minor', color= [.6,.6,.6], linestyle=':')"
   ]
  },
  {
   "cell_type": "code",
   "execution_count": null,
   "metadata": {},
   "outputs": [],
   "source": []
  }
 ],
 "metadata": {
  "kernelspec": {
   "display_name": "Python 3.8.12 ('tensorflow')",
   "language": "python",
   "name": "python3"
  },
  "language_info": {
   "codemirror_mode": {
    "name": "ipython",
    "version": 3
   },
   "file_extension": ".py",
   "mimetype": "text/x-python",
   "name": "python",
   "nbconvert_exporter": "python",
   "pygments_lexer": "ipython3",
   "version": "3.8.12"
  },
  "orig_nbformat": 4,
  "vscode": {
   "interpreter": {
    "hash": "288072cf381227fb2780b277adce38e4e338ecf5ea021577e68ec58525da43f2"
   }
  }
 },
 "nbformat": 4,
 "nbformat_minor": 2
}
