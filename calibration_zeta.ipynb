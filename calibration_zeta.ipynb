{
 "cells": [
  {
   "cell_type": "code",
   "execution_count": 1,
   "metadata": {},
   "outputs": [],
   "source": [
    "import numpy as np\n",
    "import matplotlib.pyplot as plt\n",
    "from sympy import *\n",
    "from fractions import Fraction\n",
    "import pickle\n",
    "import os"
   ]
  },
  {
   "cell_type": "code",
   "execution_count": 2,
   "metadata": {},
   "outputs": [],
   "source": [
    "q = Symbol('q')\n",
    "omega = Symbol('\\Omega')\n",
    "sigma = Symbol('\\Sigma')\n",
    "sigmatot = Symbol('Sigma_tot')\n",
    "sigmasfr = Symbol('Sigma_SFR')\n",
    "T = Symbol('T')\n",
    "\n",
    "\n",
    "# Defining the Constants\n",
    "calpha = Symbol('C_alpha')\n",
    "gamma = Symbol('gamma')\n",
    "boltz = Symbol('k_B')\n",
    "mu = Symbol('mu')\n",
    "mh = Symbol('m_H')\n",
    "G = Symbol('G')\n",
    "xio = Symbol('xi_0')\n",
    "delta = Symbol('\\delta')\n",
    "mstar = Symbol('m_*')\n",
    "cl = Symbol('C_l')\n",
    "kappa = Symbol('kappa')\n",
    "mach = Symbol('M')\n",
    "E51 = Symbol('E_51')\n",
    "Rk = Symbol('R_k')\n",
    "psi = Symbol('psi')\n",
    "zet = Symbol('zeta')"
   ]
  },
  {
   "cell_type": "code",
   "execution_count": 3,
   "metadata": {},
   "outputs": [],
   "source": [
    "#M31\n",
    "# Radius\n",
    "arcsec_r = np.array([  100.0, 200.0, 300.0, 400.0, 500.0, 600.0, 700.0, 800.0, 900.0, 1000.0, 1100.0, 1200.0, 1300.0, 1400.0, 1500.0, 1600.0, 1700.0, 1800.0, 1900.0, 2000.0, 2100.0, 2200.0, 2300.0, 2400.0, 2500.0, 2600.0, 2700.0, 2800.0, 2900.0, 3000.0, 3100.0, 3200.0, 3300.0, 3400.0, 3500.0, 3600.0, 3700.0, 3800.0, 3900.0, 4000.0, 4100.0, 4200.0, 4300.0, 4400.0, 4500.0, 4600.0, 4700.0, 4800.0, 4900.0, 5000.0, 5100.0, 5200.0, 5300.0, 5400.0, 5500.0, 5600.0, 5700.0, 5800.0, 5900.0, 6000.0, 6100.0, 6200.0, 6300.0, 6400.0, 6500.0, 6600.0, 6700.0, 6800.0, 6900.0, 7000.0, 7100.0, 7200.0, 7300.0, 7400.0, 7500.0, 7600.0, 7700.0, 7800.0, 7900.0, 8000.0, 8100.0, 8200.0, 8300.0, 8400.0, 8500.0, 8600.0, 8700.0, 8800.0, 8900.0, 9000.0, 9100.0, 9200.0, 9300.0, 9400.0, 9500.0, 9600.0, 9700.0, 9800.0, 9900.0, 10000.0])\n",
    "\n",
    "# sigma_los using model without warp (C. Carignan suggested I should use this model)\n",
    "kms_sigma = np.array([17.10, 8.58, 12.94, 17.12, 12.99, 10.03, 13.13, 15.38, 16.60, 14.95, 15.63, 14.50, 12.63, 12.25, 12.57, 12.51, 13.53, 13.79, 13.93, 13.21, 11.56, 10.87, 10.81, 11.06, 11.77, 11.12, 12.21, 12.12, 12.12, 11.70, 11.41, 11.70, 12.54, 12.15, 11.65, 11.18, 11.21, 11.36, 11.72, 10.62, 10.23, 10.47, 10.62, 10.65, 9.76, 10.82, 11.45, 10.92, 10.91, 10.46, 10.01, 10.04, 9.86, 9.94, 10.17, 9.86, 9.55, 9.72, 9.79, 10.15, 9.82, 9.76, 9.86, 9.37, 9.73, 9.58, 9.66, 10.21, 10.21, 9.20, 8.95, 9.59, 10.20, 8.94, 9.01, 9.12, 9.29, 9.46, 9.80, 8.34, 9.01, 8.46, 8.98, 7.70, 7.99, 7.04, 6.43, 5.80, 8.92, 8.76, 6.95, 6.81, 6.60, 9.30, 13.69, 11.38, 6.81, 4.58, 9.05, 10.89])\n",
    "\n",
    "# sigma_los using model WITH warp\n",
    "kms_sigma_warp = np.array([12.05, 15.64, 15.70, 10.75, 8.71, 5.82, 6.08, 8.23, 9.48, 11.61, 13.61, 12.37, 7.77, 6.22, 5.98, 5.38, 5.47, 6.62, 8.16, 8.31, 8.67, 9.30, 9.67, 8.51, 7.51, 6.32, 6.13, 6.52, 9.29, 10.66, 11.48, 10.77, 10.61, 11.23, 12.05, 11.80, 11.42, 10.91, 8.56, 6.32, 5.45, 4.81, 5.43, 6.68, 10.43, 10.71, 10.95, 10.25, 9.16, 8.87, 9.05, 8.72, 8.98, 8.49, 9.61, 6.84, 6.16, 6.88, 9.87, 9.87, 9.85, 8.62, 7.97, 7.54, 7.19, 7.99, 8.30, 8.56, 7.14, 7.23, 7.85, 7.05, 7.49, 6.64, 8.34, 7.07, 5.53, 5.61, 4.06, 4.75, 8.15, 7.09, 5.89, 6.24, 5.59, 5.59, 4.49, 3.81, 2.61, 3.57, 4.67, 5.37, 6.67, 4.19, 5.09, 4.45, 4.40, 4.53, 5.62, 5.20])\n"
   ]
  },
  {
   "cell_type": "code",
   "execution_count": 4,
   "metadata": {},
   "outputs": [],
   "source": [
    "#converted data\n",
    "mpc_gal_dist = 0.78 #from Beck et al \n",
    "fac = mpc_gal_dist*np.pi/(180*(60*60))\n",
    "mpc_radius = fac*arcsec_r\n",
    "mpc = 1\n",
    "kpc = 1e+3*mpc\n",
    "kpcm = 3.086e+21\n",
    "pcm = kpcm/1e+3\n",
    "Msun = 1.989e+33\n",
    "kpc_radius = kpc*mpc_radius\n",
    "kms = 1e+5\n",
    "kms_dat_v = np.sqrt(3)*kms_sigma\n",
    "kms_dat_v_warp = np.sqrt(3)*kms_sigma_warp"
   ]
  },
  {
   "cell_type": "code",
   "execution_count": 5,
   "metadata": {},
   "outputs": [],
   "source": [
    "#data from Chamandy et al (2016)\n",
    "kpc_dat_r = np.array([7, 9, 11, 13])\n",
    "dat_omega = np.array([38.4, 31.1, 25.1, 21.1])*1e+5/kpcm\n",
    "dat_q = np.array([0.75, 0.99, 1.07, 1.02])\n",
    "dat_sigma1 = np.array([1.47, 2.17, 3.64, 4.05])\n",
    "dat_sigma2 = np.array([0.266, 0.308, 0.665, 0.51])\n",
    "dat_sigma = (dat_sigma1 + dat_sigma2)*Msun/(pcm)**2\n",
    "dat_sigmasfr = np.array([0.443, 0.621, 0.794, 0.227])*Msun/((10**9*365*24*60*60)*(pcm)**2)\n",
    "dat_sigmatot = np.array([0.23, 0.168, 0.145, 0.105])*1e+3*Msun/(pcm)**2\n"
   ]
  },
  {
   "cell_type": "code",
   "execution_count": 6,
   "metadata": {},
   "outputs": [],
   "source": [
    "#calibration\n",
    "os.chdir(r'C:\\Users\\WS7\\Desktop\\RionXX\\MSc. Thesis\\model_scripts' )\n",
    "from model_generator import  model_gen, bin_data\n",
    "\n",
    "def observable_model(model_no, let, not_ren, quanidx = 2):\n",
    "    quantities = model_gen(model_no, let, not_ren)\n",
    "    const = [(gamma, 1.5), (boltz, 1.3807e-16), (mh, 1.67e-24), (mu, 14/11), (mach, 1), (G, 6.67e-8),\n",
    "         (cl, 3/4), (xio, 0.4), (calpha, 1), (Rk, 0.3), (mstar, 0.85*Msun), (delta, 8e-3), (E51, 1)]\n",
    "    variables = [(sigmatot, 1), (sigma, 1),\n",
    "                (sigmasfr, 1), (omega, 1), (q, 1), (T, 1e+4)]\n",
    "\n",
    "    # plotting the scaling relations\n",
    "    observ = [sigmatot, sigma, sigmasfr, q, omega]\n",
    "\n",
    "    for obs in observ:\n",
    "        variables.remove((obs, 1))\n",
    "    final = const + variables\n",
    "\n",
    "    express = [quan.subs(final).simplify(force=True) for quan in quantities]\n",
    "\n",
    "    return express[quanidx]\n",
    "\n",
    "def forward_model(zetavals, exp):\n",
    "    an_vel = np.array(np.float64([exp.evalf(subs={ sigmatot:sigt, sigma: sig, sigmasfr: sigsfr, q:qs, omega: oms, zet:zetaval}) for sigt,sig, sigsfr,qs, oms, zetaval in zip(dat_sigmatot, dat_sigma, dat_sigmasfr, dat_q, dat_omega, zetavals)]))\n",
    "    return an_vel/kms\n",
    "\n",
    "\n",
    "def parameter_calib(model_no, let, zetavals, bin_vel, not_ren = True, quanidx = 2, parstop = 100000, parstep = 1000):\n",
    "    rms = []\n",
    "    par_space = np.arange(1, parstop, parstep)\n",
    "    express = observable_model(model_no, let, not_ren, quanidx)\n",
    "    for alpha in par_space:\n",
    "        rms.append(np.sqrt(((bin_vel-forward_model(alpha*zetavals, express))**2).mean()))\n",
    "    rms = np.array(rms)\n",
    "    alp_min = par_space[np.argmin(rms)]\n",
    "    return alp_min*zetavals\n",
    "\n",
    "    "
   ]
  },
  {
   "cell_type": "code",
   "execution_count": 58,
   "metadata": {},
   "outputs": [],
   "source": [
    "model_no = 3\n",
    "let = 'a'\n",
    "not_ren = False\n",
    "bin_vel = bin_data(kpc_radius, kms_dat_v, 6, 14, 2)\n",
    "init_zet =  bin_vel/bin_vel.mean()\n",
    "zeta_opt = parameter_calib(model_no, let, init_zet, bin_vel, not_ren, 2, 100, 1)\n"
   ]
  },
  {
   "cell_type": "code",
   "execution_count": 59,
   "metadata": {},
   "outputs": [],
   "source": [
    "from scipy import interpolate\n",
    "f = interpolate.interp1d(kpc_radius, kms_dat_v, kind = 'linear' )"
   ]
  },
  {
   "cell_type": "code",
   "execution_count": 60,
   "metadata": {},
   "outputs": [
    {
     "data": {
      "text/plain": [
       "array([1.09377829, 0.92978815, 0.99547335, 0.98096021])"
      ]
     },
     "execution_count": 60,
     "metadata": {},
     "output_type": "execute_result"
    }
   ],
   "source": [
    "init_zet"
   ]
  },
  {
   "cell_type": "code",
   "execution_count": 61,
   "metadata": {},
   "outputs": [],
   "source": [
    "an_vel = forward_model(zeta_opt, observable_model(model_no, let, not_ren))"
   ]
  },
  {
   "cell_type": "code",
   "execution_count": 62,
   "metadata": {},
   "outputs": [
    {
     "data": {
      "text/plain": [
       "<matplotlib.legend.Legend at 0x252df84b7c0>"
      ]
     },
     "execution_count": 62,
     "metadata": {},
     "output_type": "execute_result"
    },
    {
     "data": {
      "image/png": "[encoded data removed]",
      "text/plain": [
       "<Figure size 432x288 with 1 Axes>"
      ]
     },
     "metadata": {},
     "output_type": "display_data"
    }
   ],
   "source": [
    "plt.plot(kpc_radius, kms_dat_v, label = 'Velocity dispersion data')\n",
    "plt.plot(kpc_radius, kms_dat_v_warp, label = 'Velocity dispersion data with warp')\n",
    "plt.scatter(kpc_dat_r, bin_vel, c = 'b', label = 'Average Binned data')\n",
    "plt.scatter(kpc_dat_r, an_vel,c = 'r', label = 'Model results')\n",
    "plt.title('Velocity Dispersion')\n",
    "plt.xlabel('Radius(kpc)')\n",
    "plt.ylabel('$v(km/s)$')\n",
    "plt.legend()"
   ]
  },
  {
   "cell_type": "code",
   "execution_count": 63,
   "metadata": {},
   "outputs": [
    {
     "data": {
      "text/plain": [
       "array([0.29153623, 0.19999879, 0.13686357, 0.23174862])"
      ]
     },
     "execution_count": 63,
     "metadata": {},
     "output_type": "execute_result"
    }
   ],
   "source": [
    "forward_model(zeta_opt, observable_model(model_no, let, not_ren, 0))*kms/kpcm"
   ]
  },
  {
   "cell_type": "code",
   "execution_count": 64,
   "metadata": {},
   "outputs": [
    {
     "data": {
      "text/plain": [
       "array([4.37511317, 3.71915261, 3.98189339, 3.92384083])"
      ]
     },
     "execution_count": 64,
     "metadata": {},
     "output_type": "execute_result"
    }
   ],
   "source": [
    "zeta_opt"
   ]
  },
  {
   "cell_type": "code",
   "execution_count": 65,
   "metadata": {},
   "outputs": [
    {
     "data": {
      "text/plain": [
       "array([24.91916318, 19.13217009, 14.21022727, 15.85132057])"
      ]
     },
     "execution_count": 65,
     "metadata": {},
     "output_type": "execute_result"
    }
   ],
   "source": [
    "an_vel"
   ]
  },
  {
   "cell_type": "code",
   "execution_count": 66,
   "metadata": {},
   "outputs": [],
   "source": [
    "from matplotlib import style\n",
    "style.use('dark_background')"
   ]
  },
  {
   "cell_type": "code",
   "execution_count": null,
   "metadata": {},
   "outputs": [],
   "source": []
  }
 ],
 "metadata": {
  "kernelspec": {
   "display_name": "Python 3.8.12 ('tensorflow')",
   "language": "python",
   "name": "python3"
  },
  "language_info": {
   "codemirror_mode": {
    "name": "ipython",
    "version": 3
   },
   "file_extension": ".py",
   "mimetype": "text/x-python",
   "name": "python",
   "nbconvert_exporter": "python",
   "pygments_lexer": "ipython3",
   "version": "3.8.12"
  },
  "orig_nbformat": 4,
  "vscode": {
   "interpreter": {
    "hash": "288072cf381227fb2780b277adce38e4e338ecf5ea021577e68ec58525da43f2"
   }
  }
 },
 "nbformat": 4,
 "nbformat_minor": 2
}
