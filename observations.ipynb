{
 "cells": [
  {
   "cell_type": "code",
   "execution_count": 1,
   "metadata": {},
   "outputs": [],
   "source": [
    "import numpy as np\n",
    "import matplotlib.pyplot as plt\n",
    "from sympy import *\n",
    "from fractions import Fraction"
   ]
  },
  {
   "cell_type": "code",
   "execution_count": 2,
   "metadata": {},
   "outputs": [],
   "source": [
    "names =  ['M31', 'M33', 'M51', 'M81', 'NGC253', 'NGC1566', 'NGC6946', 'IC342']"
   ]
  },
  {
   "cell_type": "code",
   "execution_count": 3,
   "metadata": {},
   "outputs": [],
   "source": [
    "omega = [38.4, 24.9, 46.7, 31.7, 50.9, 62.1, 52.4, 38.2, 48.1, 28.1 ]\n",
    "q = [0.75, 0.84, 0.87, 1.24, 0.97, 1.00, 0.95, 0.96, 0.86, 1.05]\n",
    "sigmatot = [1.47, 9.43, 8.98, 3.33, 3.28, 3.13, 4.31, 9.69, 6.30, 6.41]\n",
    "nan = 'nodata'\n",
    "sigmasfr = [0.443, 3.99, 18.0, nan, 35.1, nan, nan, nan, 20.2, nan]"
   ]
  },
  {
   "cell_type": "code",
   "execution_count": 4,
   "metadata": {},
   "outputs": [],
   "source": [
    "pb = [-13, -41, -22, -21, -25, -23, -17, -20, -27, -21]\n",
    "errpb = [4,2,4,7,5,2,1,5,2,2]\n",
    "Bbar = [4.8,0.3,2.5,nan,4.4,1.9,0.8,nan,nan]"
   ]
  },
  {
   "cell_type": "code",
   "execution_count": 12,
   "metadata": {},
   "outputs": [
    {
     "name": "stderr",
     "output_type": "stream",
     "text": [
      "C:\\Users\\WS7\\AppData\\Local\\Temp/ipykernel_876/3951378551.py:3: MatplotlibDeprecationWarning: The 'b' parameter of grid() has been renamed 'visible' since Matplotlib 3.5; support for the old name will be dropped two minor releases later.\n",
      "  plt.grid(b=True, which='major', color= [.6,.6,.6], linestyle='-')\n",
      "C:\\Users\\WS7\\AppData\\Local\\Temp/ipykernel_876/3951378551.py:4: MatplotlibDeprecationWarning: The 'b' parameter of grid() has been renamed 'visible' since Matplotlib 3.5; support for the old name will be dropped two minor releases later.\n",
      "  plt.grid(b=True, which='minor', color= [.6,.6,.6], linestyle=':')\n"
     ]
    },
    {
     "data": {
      "image/png": "[encoded data removed]",
      "text/plain": [
       "<Figure size 432x288 with 1 Axes>"
      ]
     },
     "metadata": {
      "needs_background": "light"
     },
     "output_type": "display_data"
    }
   ],
   "source": [
    "plt.errorbar(sigmatot,pb, yerr=errpb, fmt = 'o', mfc='red',\n",
    "         mec='green', ms=4, mew=4, capsize = 4)\n",
    "plt.grid(b=True, which='major', color= [.6,.6,.6], linestyle='-')\n",
    "plt.grid(b=True, which='minor', color= [.6,.6,.6], linestyle=':')"
   ]
  },
  {
   "cell_type": "code",
   "execution_count": null,
   "metadata": {},
   "outputs": [],
   "source": []
  }
 ],
 "metadata": {
  "kernelspec": {
   "display_name": "Python 3.8.12 ('tensorflow')",
   "language": "python",
   "name": "python3"
  },
  "language_info": {
   "codemirror_mode": {
    "name": "ipython",
    "version": 3
   },
   "file_extension": ".py",
   "mimetype": "text/x-python",
   "name": "python",
   "nbconvert_exporter": "python",
   "pygments_lexer": "ipython3",
   "version": "3.8.12"
  },
  "orig_nbformat": 4,
  "vscode": {
   "interpreter": {
    "hash": "288072cf381227fb2780b277adce38e4e338ecf5ea021577e68ec58525da43f2"
   }
  }
 },
 "nbformat": 4,
 "nbformat_minor": 2
}
