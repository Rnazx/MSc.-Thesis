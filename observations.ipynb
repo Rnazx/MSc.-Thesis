{
 "cells": [
  {
   "cell_type": "code",
   "execution_count": 58,
   "metadata": {},
   "outputs": [],
   "source": [
    "import numpy as np\n",
    "import matplotlib.pyplot as plt\n",
    "from sympy import *\n",
    "from fractions import Fraction\n",
    "import pickle\n",
    "import os\n"
   ]
  },
  {
   "cell_type": "code",
   "execution_count": 59,
   "metadata": {},
   "outputs": [],
   "source": [
    "q = Symbol('q')\n",
    "omega = Symbol('\\Omega')\n",
    "sigma = Symbol('\\Sigma')\n",
    "sigmatot = Symbol('Sigma_tot')\n",
    "sigmasfr = Symbol('Sigma_SFR')\n",
    "T = Symbol('T')\n",
    "\n",
    "\n",
    "# Defining the Constants\n",
    "calpha = Symbol('C_alpha')\n",
    "gamma = Symbol('gamma')\n",
    "boltz = Symbol('k_B')\n",
    "mu = Symbol('mu')\n",
    "mh = Symbol('m_H')\n",
    "G = Symbol('G')\n",
    "xio = Symbol('xi_0')\n",
    "delta = Symbol('\\delta')\n",
    "mstar = Symbol('m_*')\n",
    "cl = Symbol('C_l')\n",
    "kappa = Symbol('kappa')\n",
    "mach = Symbol('M')\n",
    "E51 = Symbol('E_51')\n",
    "Rk = Symbol('R_k')\n"
   ]
  },
  {
   "cell_type": "code",
   "execution_count": 60,
   "metadata": {},
   "outputs": [],
   "source": [
    "# quantities = [h, l, u, tau, biso, bani, Bbar, tanpb ]\n",
    "script_dir = os.getcwd()  # <-- absolute dir the script is in\n",
    "model_name = \"\\model3b.txt\"\n",
    "rel_path = \"model_scripts\" + model_name\n",
    "abs_file_path = os.path.join(script_dir, rel_path)\n",
    "with open(abs_file_path, \"rb\") as inf:\n",
    "    quantities = pickle.load(inf)\n"
   ]
  },
  {
   "cell_type": "code",
   "execution_count": 61,
   "metadata": {},
   "outputs": [],
   "source": [
    "names = ['M31', 'M33', 'M51', 'M81', 'NGC253', 'NGC1566', 'NGC6946', 'IC342']\n"
   ]
  },
  {
   "cell_type": "code",
   "execution_count": 62,
   "metadata": {},
   "outputs": [],
   "source": [
    "omegadat = [38.4, 24.9, 46.7, 31.7, 50.9, 62.1, 52.4, 38.2, 48.1, 28.1]\n",
    "qdat = [0.75, 0.84, 0.87, 1.24, 0.97, 1.00, 0.95, 0.96, 0.86, 1.05]\n",
    "sigmadat = [1.47, 9.43, 8.98, 3.33, 3.28,\n",
    "                     3.13, 4.31, 9.69, 6.30, 6.41]\n",
    "nan = 0\n",
    "sigmasfrdat = [0.443, 3.99, 18.0, nan, 35.1, nan, nan, nan, 20.2, nan]\n"
   ]
  },
  {
   "cell_type": "code",
   "execution_count": 63,
   "metadata": {},
   "outputs": [],
   "source": [
    "pbdat = np.array([-13, -41, -22, -21, -25, -23, -17, -20, -27, -21])\n",
    "errpb = np.array([4, 2, 4, 7, 5, 2, 1, 5, 2, 2])\n",
    "Bbardat = np.array([4.8, 0.3, 2.5, nan, 4.4, 1.9, 0.8, nan, nan])\n",
    "tanpbdat = np.tan(pbdat)\n"
   ]
  },
  {
   "cell_type": "code",
   "execution_count": 64,
   "metadata": {},
   "outputs": [
    {
     "data": {
      "text/plain": [
       "array([4.8, 0.3, 2.5, 4.4, 1.9, 0.8])"
      ]
     },
     "execution_count": 64,
     "metadata": {},
     "output_type": "execute_result"
    }
   ],
   "source": [
    "nodata = np.argwhere(Bbardat).flatten()\n",
    "nodata\n",
    "Bbarfinal = Bbardat[nodata]\n",
    "sigmafinal = sigmadat[nodata]\n",
    "Bbarfinal\n"
   ]
  },
  {
   "cell_type": "code",
   "execution_count": 66,
   "metadata": {},
   "outputs": [
    {
     "data": {
      "text/plain": [
       "array([5451.56241431, 9799.82313057, 9649.78775173, 7022.67242981,\n",
       "       6919.70788873, 7654.65854397])"
      ]
     },
     "execution_count": 66,
     "metadata": {},
     "output_type": "execute_result"
    }
   ],
   "source": [
    "scalreldata = []\n",
    "for s in sigmafinal:\n",
    "    scalreldata.append(z.evalf(subs={sigma: s}))\n",
    "scalreldata = np.array(np.float64(scalreldata))\n",
    "scalreldata\n"
   ]
  },
  {
   "cell_type": "code",
   "execution_count": 67,
   "metadata": {},
   "outputs": [
    {
     "name": "stderr",
     "output_type": "stream",
     "text": [
      "C:\\Users\\WS7\\AppData\\Local\\Temp/ipykernel_17832/1820521585.py:4: MatplotlibDeprecationWarning: The 'b' parameter of grid() has been renamed 'visible' since Matplotlib 3.5; support for the old name will be dropped two minor releases later.\n",
      "  plt.grid(b=True, which='major', color=[.6, .6, .6], linestyle='-')\n",
      "C:\\Users\\WS7\\AppData\\Local\\Temp/ipykernel_17832/1820521585.py:5: MatplotlibDeprecationWarning: The 'b' parameter of grid() has been renamed 'visible' since Matplotlib 3.5; support for the old name will be dropped two minor releases later.\n",
      "  plt.grid(b=True, which='minor', color=[.6, .6, .6], linestyle=':')\n"
     ]
    },
    {
     "data": {
      "image/png": "[encoded data removed]",
      "text/plain": [
       "<Figure size 432x288 with 1 Axes>"
      ]
     },
     "metadata": {
      "needs_background": "light"
     },
     "output_type": "display_data"
    }
   ],
   "source": [
    "plt.errorbar(sigmafinal, Bbarfinal, fmt='o', mfc='red',\n",
    "             mec='green', ms=4, mew=4, capsize=4)\n",
    "plt.scatter(sigmafinal, scalreldata, c='r')\n",
    "plt.grid(b=True, which='major', color=[.6, .6, .6], linestyle='-')\n",
    "plt.grid(b=True, which='minor', color=[.6, .6, .6], linestyle=':')\n"
   ]
  },
  {
   "cell_type": "code",
   "execution_count": 70,
   "metadata": {},
   "outputs": [
    {
     "ename": "ValueError",
     "evalue": "For each axis slice, the sum of the observed frequencies must agree with the sum of the expected frequencies to a relative tolerance of 1e-08, but the percent differences are:\n3162.143684293624",
     "output_type": "error",
     "traceback": [
      "\u001b[1;31m---------------------------------------------------------------------------\u001b[0m",
      "\u001b[1;31mValueError\u001b[0m                                Traceback (most recent call last)",
      "\u001b[1;32m~\\AppData\\Local\\Temp/ipykernel_17832/1898170354.py\u001b[0m in \u001b[0;36m<module>\u001b[1;34m\u001b[0m\n\u001b[0;32m      1\u001b[0m \u001b[1;32mfrom\u001b[0m \u001b[0mscipy\u001b[0m\u001b[1;33m.\u001b[0m\u001b[0mstats\u001b[0m \u001b[1;32mimport\u001b[0m \u001b[0mchisquare\u001b[0m\u001b[1;33m\u001b[0m\u001b[1;33m\u001b[0m\u001b[0m\n\u001b[1;32m----> 2\u001b[1;33m \u001b[0mchisquare\u001b[0m\u001b[1;33m(\u001b[0m\u001b[0mBbarfinal\u001b[0m\u001b[1;33m,\u001b[0m \u001b[0mf_exp\u001b[0m\u001b[1;33m=\u001b[0m\u001b[0mscalreldata\u001b[0m\u001b[1;33m.\u001b[0m\u001b[0mflatten\u001b[0m\u001b[1;33m(\u001b[0m\u001b[1;33m)\u001b[0m\u001b[1;33m)\u001b[0m\u001b[1;33m\u001b[0m\u001b[1;33m\u001b[0m\u001b[0m\n\u001b[0m",
      "\u001b[1;32mc:\\Users\\WS7\\anaconda3\\envs\\tensorflow\\lib\\site-packages\\scipy\\stats\\stats.py\u001b[0m in \u001b[0;36mchisquare\u001b[1;34m(f_obs, f_exp, ddof, axis)\u001b[0m\n\u001b[0;32m   6850\u001b[0m \u001b[1;33m\u001b[0m\u001b[0m\n\u001b[0;32m   6851\u001b[0m     \"\"\"\n\u001b[1;32m-> 6852\u001b[1;33m     return power_divergence(f_obs, f_exp=f_exp, ddof=ddof, axis=axis,\n\u001b[0m\u001b[0;32m   6853\u001b[0m                             lambda_=\"pearson\")\n\u001b[0;32m   6854\u001b[0m \u001b[1;33m\u001b[0m\u001b[0m\n",
      "\u001b[1;32mc:\\Users\\WS7\\anaconda3\\envs\\tensorflow\\lib\\site-packages\\scipy\\stats\\stats.py\u001b[0m in \u001b[0;36mpower_divergence\u001b[1;34m(f_obs, f_exp, ddof, axis, lambda_)\u001b[0m\n\u001b[0;32m   6692\u001b[0m                    \u001b[1;34mf\"of {rtol}, but the percent differences are:\\n\"\u001b[0m\u001b[1;33m\u001b[0m\u001b[1;33m\u001b[0m\u001b[0m\n\u001b[0;32m   6693\u001b[0m                    f\"{relative_diff}\")\n\u001b[1;32m-> 6694\u001b[1;33m             \u001b[1;32mraise\u001b[0m \u001b[0mValueError\u001b[0m\u001b[1;33m(\u001b[0m\u001b[0mmsg\u001b[0m\u001b[1;33m)\u001b[0m\u001b[1;33m\u001b[0m\u001b[1;33m\u001b[0m\u001b[0m\n\u001b[0m\u001b[0;32m   6695\u001b[0m \u001b[1;33m\u001b[0m\u001b[0m\n\u001b[0;32m   6696\u001b[0m     \u001b[1;32melse\u001b[0m\u001b[1;33m:\u001b[0m\u001b[1;33m\u001b[0m\u001b[1;33m\u001b[0m\u001b[0m\n",
      "\u001b[1;31mValueError\u001b[0m: For each axis slice, the sum of the observed frequencies must agree with the sum of the expected frequencies to a relative tolerance of 1e-08, but the percent differences are:\n3162.143684293624"
     ]
    }
   ],
   "source": [
    "from scipy.stats import chisquare\n",
    "chisquare(Bbarfinal, f_exp=scalreldata.flatten())\n"
   ]
  },
  {
   "cell_type": "code",
   "execution_count": null,
   "metadata": {},
   "outputs": [
    {
     "name": "stderr",
     "output_type": "stream",
     "text": [
      "C:\\Users\\WS7\\AppData\\Local\\Temp/ipykernel_13584/1955858082.py:4: MatplotlibDeprecationWarning: The 'b' parameter of grid() has been renamed 'visible' since Matplotlib 3.5; support for the old name will be dropped two minor releases later.\n",
      "  plt.grid(b=True, which='major', color= [.6,.6,.6], linestyle='-')\n",
      "C:\\Users\\WS7\\AppData\\Local\\Temp/ipykernel_13584/1955858082.py:5: MatplotlibDeprecationWarning: The 'b' parameter of grid() has been renamed 'visible' since Matplotlib 3.5; support for the old name will be dropped two minor releases later.\n",
      "  plt.grid(b=True, which='minor', color= [.6,.6,.6], linestyle=':')\n"
     ]
    },
    {
     "data": {
      "image/png": "[encoded data removed]",
      "text/plain": [
       "<Figure size 432x288 with 1 Axes>"
      ]
     },
     "metadata": {},
     "output_type": "display_data"
    }
   ],
   "source": [
    "# plt.errorbar(sigmatotdat, tanpbdat, yerr=errpb, fmt='o', mfc='red',\n",
    "#              mec='green', ms=4, mew=4, capsize=4)\n",
    "# plt.scatter(sigmatotdat, scalreldata, c='r')\n",
    "# plt.grid(b=True, which='major', color=[.6, .6, .6], linestyle='-')\n",
    "# plt.grid(b=True, which='minor', color=[.6, .6, .6], linestyle=':')\n"
   ]
  },
  {
   "cell_type": "markdown",
   "metadata": {},
   "source": [
    "## M31 results from model"
   ]
  },
  {
   "cell_type": "code",
   "execution_count": null,
   "metadata": {},
   "outputs": [],
   "source": [
    "#M31\n",
    "# Radius\n",
    "arcsec_r = [  100.0, 200.0, 300.0, 400.0, 500.0, 600.0, 700.0, 800.0, 900.0, 1000.0, 1100.0, 1200.0, 1300.0, 1400.0, 1500.0, 1600.0, 1700.0, 1800.0, 1900.0, 2000.0, 2100.0, 2200.0, 2300.0, 2400.0, 2500.0, 2600.0, 2700.0, 2800.0, 2900.0, 3000.0, 3100.0, 3200.0, 3300.0, 3400.0, 3500.0, 3600.0, 3700.0, 3800.0, 3900.0, 4000.0, 4100.0, 4200.0, 4300.0, 4400.0, 4500.0, 4600.0, 4700.0, 4800.0, 4900.0, 5000.0, 5100.0, 5200.0, 5300.0, 5400.0, 5500.0, 5600.0, 5700.0, 5800.0, 5900.0, 6000.0, 6100.0, 6200.0, 6300.0, 6400.0, 6500.0, 6600.0, 6700.0, 6800.0, 6900.0, 7000.0, 7100.0, 7200.0, 7300.0, 7400.0, 7500.0, 7600.0, 7700.0, 7800.0, 7900.0, 8000.0, 8100.0, 8200.0, 8300.0, 8400.0, 8500.0, 8600.0, 8700.0, 8800.0, 8900.0, 9000.0, 9100.0, 9200.0, 9300.0, 9400.0, 9500.0, 9600.0, 9700.0, 9800.0, 9900.0, 10000.0]\n",
    "\n",
    "# sigma_los using model without warp (C. Carignan suggested I should use this model)\n",
    "kms_sigma = [17.10, 8.58, 12.94, 17.12, 12.99, 10.03, 13.13, 15.38, 16.60, 14.95, 15.63, 14.50, 12.63, 12.25, 12.57, 12.51, 13.53, 13.79, 13.93, 13.21, 11.56, 10.87, 10.81, 11.06, 11.77, 11.12, 12.21, 12.12, 12.12, 11.70, 11.41, 11.70, 12.54, 12.15, 11.65, 11.18, 11.21, 11.36, 11.72, 10.62, 10.23, 10.47, 10.62, 10.65, 9.76, 10.82, 11.45, 10.92, 10.91, 10.46, 10.01, 10.04, 9.86, 9.94, 10.17, 9.86, 9.55, 9.72, 9.79, 10.15, 9.82, 9.76, 9.86, 9.37, 9.73, 9.58, 9.66, 10.21, 10.21, 9.20, 8.95, 9.59, 10.20, 8.94, 9.01, 9.12, 9.29, 9.46, 9.80, 8.34, 9.01, 8.46, 8.98, 7.70, 7.99, 7.04, 6.43, 5.80, 8.92, 8.76, 6.95, 6.81, 6.60, 9.30, 13.69, 11.38, 6.81, 4.58, 9.05, 10.89]\n",
    "\n",
    "# sigma_los using model WITH warp\n",
    "kms_sigma_warp = [12.05, 15.64, 15.70, 10.75, 8.71, 5.82, 6.08, 8.23, 9.48, 11.61, 13.61, 12.37, 7.77, 6.22, 5.98, 5.38, 5.47, 6.62, 8.16, 8.31, 8.67, 9.30, 9.67, 8.51, 7.51, 6.32, 6.13, 6.52, 9.29, 10.66, 11.48, 10.77, 10.61, 11.23, 12.05, 11.80, 11.42, 10.91, 8.56, 6.32, 5.45, 4.81, 5.43, 6.68, 10.43, 10.71, 10.95, 10.25, 9.16, 8.87, 9.05, 8.72, 8.98, 8.49, 9.61, 6.84, 6.16, 6.88, 9.87, 9.87, 9.85, 8.62, 7.97, 7.54, 7.19, 7.99, 8.30, 8.56, 7.14, 7.23, 7.85, 7.05, 7.49, 6.64, 8.34, 7.07, 5.53, 5.61, 4.06, 4.75, 8.15, 7.09, 5.89, 6.24, 5.59, 5.59, 4.49, 3.81, 2.61, 3.57, 4.67, 5.37, 6.67, 4.19, 5.09, 4.45, 4.40, 4.53, 5.62, 5.20]\n"
   ]
  },
  {
   "cell_type": "code",
   "execution_count": null,
   "metadata": {},
   "outputs": [],
   "source": [
    "act_r = [7, 9, 11, 13]\n"
   ]
  },
  {
   "cell_type": "code",
   "execution_count": null,
   "metadata": {},
   "outputs": [],
   "source": [
    "#M33\n",
    "# radius\n",
    "arcmin_r = [2,4,6,8,10,12,14,16,18,20,22,24,26,28,30,32,34,36,38,40,42,44,46,48,50,52,54,56,58,60,62,64,66,68,70,72,74,76,78,80,82,84,86,88,90,92,94,96]\n",
    "\n",
    "# sigma_los\n",
    "kms_sigma = [0.7, 9.5, 9.3, 9.6, 0.0, 0.1, 9.1, 8.2, 8.0, 8.4, 7.9, 8.0, 7.6, 7.6, 8.0, 8.9, 9.8, 0.2, 0.3, 0.5, 9.5, 8.8, 9.1, 9.0, 8.5, 8.2, 8.3, 7.6, 7.7, 6.8, 7.4, 7.5, 6.7, 6.6, 6.4, 8.0, 8.2, 6.5, 6.5, 7.4, 6.5, 5.6, 6.1, 5.7, 5.7, 5.6, 6.4, 7.5]\n",
    "\n",
    "# Sigma_HI\n",
    "kms_SigHI = [7.89, 7.73, 8.26, 8.52, 8.23, 7.66, 8.00, 8.61, 8.14, 8.19, 7.61, 7.57, 7.54, 6.50, 4.99, 3.50, 2.51, 1.75, 1.34, 1.00, 0.75, 0.67, 0.56, 0.63, 0.49, 0.36, 0.23, 0.18, 0.12, 0.08, 0.04, 0.03, 0.03, 0.00, 0.03, 0.07, 0.03, 0.04, 0.04, 0.04, 0.08, 0.09, nan, nan, 0.09, nan, nan, nan]\n",
    "\n"
   ]
  },
  {
   "cell_type": "code",
   "execution_count": null,
   "metadata": {},
   "outputs": [
    {
     "data": {
      "text/latex": [
       "$\\displaystyle \\frac{6180.97473923654 \\cdot 2^{\\frac{167}{618}} \\cdot 5^{\\frac{245}{618}} \\sqrt[3]{\\frac{1}{\\left(\\frac{\\Sigma}{\\left(\\frac{1}{\\Sigma^{\\frac{76}{51}}}\\right)^{\\frac{102}{103}}}\\right)^{\\frac{76}{51}} \\left(\\frac{1}{\\Sigma^{\\frac{76}{51}}}\\right)^{\\frac{102}{103}}}} \\sqrt{\\frac{\\Sigma \\left(\\frac{1}{\\Sigma^{\\frac{76}{51}}}\\right)^{\\frac{102}{103}}}{\\left(\\frac{1}{\\left(\\frac{\\Sigma}{\\left(\\frac{1}{\\Sigma^{\\frac{76}{51}}}\\right)^{\\frac{102}{103}}}\\right)^{\\frac{76}{51}} \\left(\\frac{1}{\\Sigma^{\\frac{76}{51}}}\\right)^{\\frac{102}{103}}}\\right)^{\\frac{2}{3}}}}}{\\pi^{\\frac{193}{206}} \\left(\\frac{\\Sigma}{\\left(\\frac{1}{\\Sigma^{\\frac{76}{51}}}\\right)^{\\frac{102}{103}}}\\right)^{\\frac{19}{51}} \\left(\\frac{1}{\\Sigma^{\\frac{76}{51}}}\\right)^{\\frac{102}{103}}}$"
      ],
      "text/plain": [
       "6180.97473923654*2**(167/618)*5**(245/618)*(1/((\\Sigma/(\\Sigma**(-76/51))**(102/103))**(76/51)*(\\Sigma**(-76/51))**(102/103)))**(1/3)*sqrt(\\Sigma*(\\Sigma**(-76/51))**(102/103)/(1/((\\Sigma/(\\Sigma**(-76/51))**(102/103))**(76/51)*(\\Sigma**(-76/51))**(102/103)))**(2/3))/(pi**(193/206)*(\\Sigma/(\\Sigma**(-76/51))**(102/103))**(19/51)*(\\Sigma**(-76/51))**(102/103))"
      ]
     },
     "metadata": {},
     "output_type": "display_data"
    }
   ],
   "source": [
    "\n",
    "const = [(gamma, 1.5), (boltz, 1.38e-16), (mh, 1), (mu, 14/11), (mach, 1), (G, 6.67e-8),\n",
    "         (cl, 1), (xio, 0.4), (calpha, 1), (Rk, 1), (mstar, 0.85), (delta, 8e-3), (E51, 1)]\n",
    "variables = [(sigmatot, 10), (sigma, 1),\n",
    "             (sigmasfr, 20), (omega, 30), (q, 1), (T, 1e+4)]\n",
    "\n",
    "# quantities = [h, l, u, tau, biso, bani, Bbar, tanpb ]\n",
    "quan = quantities[-2]\n",
    "# plotting the scaling relations\n",
    "obs = sigma\n",
    "\n",
    "variables.remove((obs, 1))\n",
    "final = const + variables\n",
    "z = quan.subs(final)\n",
    "z.simplify(force=True)\n"
   ]
  }
 ],
 "metadata": {
  "kernelspec": {
   "display_name": "Python 3.8.12 ('tensorflow')",
   "language": "python",
   "name": "python3"
  },
  "language_info": {
   "codemirror_mode": {
    "name": "ipython",
    "version": 3
   },
   "file_extension": ".py",
   "mimetype": "text/x-python",
   "name": "python",
   "nbconvert_exporter": "python",
   "pygments_lexer": "ipython3",
   "version": "3.8.12"
  },
  "orig_nbformat": 4,
  "vscode": {
   "interpreter": {
    "hash": "288072cf381227fb2780b277adce38e4e338ecf5ea021577e68ec58525da43f2"
   }
  }
 },
 "nbformat": 4,
 "nbformat_minor": 2
}
