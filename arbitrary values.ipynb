{
 "cells": [
  {
   "cell_type": "code",
   "execution_count": 13,
   "metadata": {},
   "outputs": [],
   "source": [
    "import numpy as np\n",
    "from sympy import *\n",
    "import pickle\n",
    "import os\n",
    "import pandas as pd\n",
    "from helper_functions import datamaker, root_finder, exp_analytical_data\n",
    "import matplotlib.pyplot as plt\n",
    "import matplotlib\n",
    "\n",
    "current_directory = str(os.getcwd())  # store the path of the current directory"
   ]
  },
  {
   "cell_type": "code",
   "execution_count": 2,
   "metadata": {},
   "outputs": [],
   "source": [
    "cm_kpc = 3.086e+21  # number of centimeters in one parsec\n",
    "pc_kpc = 1e+3  # number of pc in one kpc\n",
    "cm_pc = cm_kpc/pc_kpc\n",
    "g_Msun = 1.989e33  # solar mass in g\n",
    "s_Myr = 1e+6*(365*24*60*60)  # megayears to seconds\n",
    "cm_km = 1e5  # number of cm in one km\n"
   ]
  },
  {
   "cell_type": "code",
   "execution_count": 3,
   "metadata": {},
   "outputs": [],
   "source": [
    "\n",
    "dat_sigmatot= np.array([200])*g_Msun/(cm_pc)** 2\n",
    "dat_sigmaHI= np.array([2])*g_Msun/(cm_pc)** 2\n",
    "dat_q= np.array([1])\n",
    "dat_omega= np.array([0.1])\n",
    "dat_sigmasfr= np.array([1])*g_Msun/((1e+3*s_Myr)*(cm_pc)**2)\n",
    "molfrac = np.array([0.1])\n",
    "T = np.array([1e+4])\n",
    "\n",
    "dat_sigmaH2 = dat_sigmaHI*(1/(1-molfrac))\n",
    "dat_sigma = dat_sigmaHI + dat_sigmaH2\n",
    "\n",
    "\n",
    "kpc_r = np.ones(len(dat_sigma))\n",
    "r = kpc_r.size  # common radius of the interpolated data\n",
    "\n"
   ]
  },
  {
   "cell_type": "code",
   "execution_count": 6,
   "metadata": {},
   "outputs": [],
   "source": [
    "range_fact = np.linspace(1,100,20)\n",
    "zet = np.array([1])\n",
    "psi = np.array([1])\n",
    "bet = np.array([1])\n",
    "ca = np.array([1])\n",
    "rk = np.array([0.3])\n",
    "mu = np.array([(14/11)])\n",
    "dat_sigma = mu*dat_sigma\n",
    "obs_array = np.array([dat_sigmatot, dat_sigma, dat_sigmasfr,\n",
    "                 dat_q, dat_omega])*range_fact\n",
    "param_array = np.array([zet, T, psi, bet, ca, rk, mu])*np.ones(range_fact.size)\n",
    "concatenated_array = np.concatenate((obs_array, param_array), axis =0)\n",
    "data_pass = list(zip(*concatenated_array))\n",
    "\n",
    "os.chdir(current_directory)"
   ]
  },
  {
   "cell_type": "code",
   "execution_count": 7,
   "metadata": {},
   "outputs": [
    {
     "name": "stdout",
     "output_type": "stream",
     "text": [
      "Root found succesfully\n"
     ]
    }
   ],
   "source": [
    "\n",
    "# extracting the expressions\n",
    "os.chdir(current_directory + '\\expressions')\n",
    "# subprocess.run([\"python\", \"turbulence_expressions.py\"])\n",
    "# subprocess.run([\"python\", \"magnetic_expressions.py\"])\n",
    "\n",
    "\n",
    "with open('turb_exp.pickle', 'rb') as f:\n",
    "    hg, rho, nu, u, l, taue, taur, alphak1, alphak2, alphak3 = pickle.load(f)\n",
    "\n",
    "with open('mag_exp.pickle', 'rb') as f:\n",
    "    biso, bani, Bbar, tanpb, tanpB, Beq, eta, cs = pickle.load(f)\n",
    "\n",
    "os.chdir(current_directory)\n",
    "\n",
    "cs_f = exp_analytical_data(cs, data_pass).astype(np.float64)\n",
    "#print(exp_analytical_data(hg, data_pass))\n",
    "try:\n",
    "    h_f = root_finder(exp_analytical_data(hg, data_pass), 1e+35)\n",
    "    print('Root found succesfully')\n",
    "except:\n",
    "    print('*************************************************************************************')\n",
    "    print('Please change the value of the initial guess')\n",
    "    print('*************************************************************************************')\n",
    "    \n",
    "os.chdir(current_directory)\n"
   ]
  },
  {
   "cell_type": "code",
   "execution_count": 8,
   "metadata": {},
   "outputs": [
    {
     "name": "stdout",
     "output_type": "stream",
     "text": [
      "The values of h(kpc), l(kpc), u(km/s), cs(km/s), alphak(km/s), tau(Myr), biso($\\mu$ G), bani($\\mu$ G), Bbar($\\mu$ G), tanpB, tanpb are: \\n [[ 1.27756150e+01  1.96857136e+00  1.06370187e+00  7.28390786e-01\n",
      "   5.53711086e-01  4.46566290e-01  3.74144212e-01  3.21923289e-01\n",
      "   2.82487696e-01  2.51655185e-01  2.26888024e-01  2.06557103e-01\n",
      "   1.89568722e-01  1.75161352e-01  1.62788440e-01  1.52047559e-01\n",
      "   1.42635839e-01  1.34320978e-01  1.26921823e-01  1.20295025e-01]\n",
      " [ 7.36856761e+00  1.85912302e+00  1.17800183e+00  8.89340456e-01\n",
      "   7.25452824e-01  6.18299235e-01  5.42088826e-01  4.84758045e-01\n",
      "   4.39863130e-01  4.03629465e-01  3.73690052e-01  3.48480582e-01\n",
      "   3.26923151e-01  3.08249310e-01  2.91895510e-01  2.77438478e-01\n",
      "   2.64553729e-01  2.52988070e-01  2.42540852e-01  2.33050878e-01]\n",
      " [ 2.52129344e+00  1.37819231e+00  1.12822727e+00  9.97363905e-01\n",
      "   9.12128226e-01  8.50379355e-01  8.02705903e-01  7.64301305e-01\n",
      "   7.32407116e-01  7.05306177e-01  6.81863246e-01  6.61292131e-01\n",
      "   6.43027874e-01  6.26652075e-01  6.11847010e-01  5.98366246e-01\n",
      "   5.86015144e-01  5.74637541e-01  5.64106413e-01  5.54317178e-01]\n",
      " [ 9.86056461e+00  9.86056461e+00  9.86056461e+00  9.86056461e+00\n",
      "   9.86056461e+00  9.86056461e+00  9.86056461e+00  9.86056461e+00\n",
      "   9.86056461e+00  9.86056461e+00  9.86056461e+00  9.86056461e+00\n",
      "   9.86056461e+00  9.86056461e+00  9.86056461e+00  9.86056461e+00\n",
      "   9.86056461e+00  9.86056461e+00  9.86056461e+00  9.86056461e+00]\n",
      " [ 1.45420171e+00  1.30156778e+00  1.12822727e+00  9.97363905e-01\n",
      "   9.12128226e-01  8.50379355e-01  8.02705903e-01  7.64301305e-01\n",
      "   7.32407116e-01  7.05306177e-01  6.81863246e-01  6.61292131e-01\n",
      "   6.43027874e-01  6.26652075e-01  6.11847010e-01  5.98366246e-01\n",
      "   5.86015144e-01  5.74637541e-01  5.64106413e-01  5.54317178e-01]\n",
      " [ 2.85988779e+00  1.32004161e+00  1.02173598e+00  8.72576911e-01\n",
      "   7.78292051e-01  7.11500674e-01  6.60850637e-01  6.20654257e-01\n",
      "   5.87698145e-01  5.60008333e-01  5.36294780e-01  5.15673178e-01\n",
      "   4.97513869e-01  4.81354400e-01  4.66846263e-01  4.53721042e-01\n",
      "   4.41768111e-01  4.30819510e-01  4.20739393e-01  4.11416515e-01]\n",
      " [ 2.71424780e+00  9.41923110e+00  1.42251452e+01  1.83381354e+01\n",
      "   2.20433980e+01  2.54678045e+01  2.86818649e+01  3.17298930e+01\n",
      "   3.46420371e+01  3.74399836e+01  4.01399924e+01  4.27546520e+01\n",
      "   4.52939609e+01  4.77660286e+01  5.01775476e+01  5.25341231e+01\n",
      "   5.48405091e+01  5.71007822e+01  5.93184713e+01  6.14966575e+01]\n",
      " [ 1.41333290e+13  8.73184195e+14  3.45186370e+15  8.05882702e+15\n",
      "   1.49023963e+16  2.41452574e+16  3.59228203e+16  5.03520447e+16\n",
      "   6.75364500e+16  8.75692644e+16  1.10535547e+17  1.36513694e+17\n",
      "   1.65576543e+17  1.97792223e+17  2.33224808e+17  2.71934843e+17\n",
      "   3.13979767e+17  3.59414264e+17  4.08290552e+17  4.60658630e+17]\n",
      " [ 2.15144061e+07  3.15023563e+08  7.31432967e+08  1.20849284e+09\n",
      "   1.73934898e+09  2.31492895e+09  2.92924417e+09  3.57798838e+09\n",
      "   4.25788760e+09  4.96635279e+09  5.70127546e+09  6.46089900e+09\n",
      "   7.24373308e+09  8.04849429e+09  8.87406370e+09  9.71945542e+09\n",
      "   1.05837930e+10  1.14662912e+10  1.23662415e+10  1.32830010e+10]\n",
      " [-3.03364959e-14 -4.56858164e-15 -2.40000987e-15 -1.61082523e-15\n",
      "  -1.20568045e-15 -9.60158844e-16 -7.95898490e-16 -6.78507461e-16\n",
      "  -5.90553320e-16 -5.22270841e-16 -4.67770814e-16 -4.23293821e-16\n",
      "  -3.86329037e-16 -3.55136610e-16 -3.28473445e-16 -3.05428095e-16\n",
      "  -2.85317323e-16 -2.67619042e-16 -2.51927563e-16 -2.37922942e-16]\n",
      " [ 1.10877749e-13  6.22800509e-15  2.37926294e-15  1.31378020e-15\n",
      "   8.54007739e-16  6.08974407e-16  4.60973896e-16  3.63823602e-16\n",
      "   2.96145111e-16  2.46844424e-16  2.09659571e-16  1.80820028e-16\n",
      "   1.57935901e-16  1.39427775e-16  1.24215004e-16  1.11536241e-16\n",
      "   1.00841474e-16  9.17246622e-17  8.38803034e-17  7.70746697e-17]]\n"
     ]
    }
   ],
   "source": [
    "l_f = datamaker(l, data_pass, h_f)\n",
    "u_f = datamaker(u, data_pass, h_f)\n",
    "taue_f = datamaker(taue, data_pass, h_f)\n",
    "taur_f = datamaker(taur, data_pass, h_f)\n",
    "tau_f = np.minimum(taue_f, taur_f)\n",
    "\n",
    "omega = Symbol('\\Omega')\n",
    "kalpha = Symbol('K_alpha')\n",
    "calpha = Symbol('C_alpha')\n",
    "\n",
    "omt = datamaker(omega, data_pass, h_f, tau_f)*tau_f\n",
    "kah = datamaker(kalpha/calpha, data_pass, h_f, tau_f)*(h_f/(tau_f*u_f))\n",
    "\n",
    "alphak_f = []\n",
    "\n",
    "for i in range(len(omt)):\n",
    "    if min(1, kah[i]) >= omt[i]:\n",
    "        alpha_k = alphak1\n",
    "    elif min(omt[i], kah[i]) >= 1:\n",
    "        alpha_k = alphak2\n",
    "    else:\n",
    "        alpha_k = alphak3\n",
    "    alphak_f.append(datamaker(alpha_k, [data_pass[i]], np.array(\n",
    "        [h_f[i]]), np.array([tau_f[i]]))[0])\n",
    "\n",
    "alphak_f = np.array(alphak_f)\n",
    "\n",
    "\n",
    "biso_f = datamaker(biso, data_pass, h_f, tau_f)\n",
    "bani_f = datamaker(bani, data_pass, h_f, tau_f)\n",
    "\n",
    "Bbar_f = datamaker(Bbar, data_pass, h_f, tau_f, alphak_f)\n",
    "\n",
    "tanpB_f = datamaker(tanpB, data_pass, h_f, tau_f)\n",
    "tanpb_f = datamaker(tanpb, data_pass, h_f, tau_f)\n",
    "\n",
    "mag_obs = h_f*pc_kpc/cm_kpc, l_f*pc_kpc/cm_kpc, u_f/cm_km, cs_f/cm_km, alphak_f/cm_km, tau_f/s_Myr, biso_f*1e+6, bani_f*1e+6, Bbar_f*1e+6, tanpB_f, tanpb_f\n",
    "mag_f = np.array([o.flatten() for o in mag_obs])\n",
    "os.chdir(current_directory)\n",
    "print(r'The values of h(kpc), l(kpc), u(km/s), cs(km/s), alphak(km/s), tau(Myr), biso($\\mu$ G), bani($\\mu$ G), Bbar($\\mu$ G), tanpB, tanpb are: \\n',mag_f)"
   ]
  },
  {
   "cell_type": "code",
   "execution_count": 19,
   "metadata": {},
   "outputs": [
    {
     "data": {
      "text/plain": [
       "Text(0, 0.5, 'correlation length (pc)')"
      ]
     },
     "execution_count": 19,
     "metadata": {},
     "output_type": "execute_result"
    },
    {
     "data": {
      "image/png": "[encoded data removed]",
      "text/plain": [
       "<Figure size 700x500 with 1 Axes>"
      ]
     },
     "metadata": {},
     "output_type": "display_data"
    }
   ],
   "source": [
    "m = 2\n",
    "dm = 2.5\n",
    "fs = 15\n",
    "lfs = 10\n",
    "leg_textsize = 10\n",
    "axis_textsize = 10\n",
    "def axis_pars(ax):\n",
    "    ax.tick_params(axis='both', which='minor',\n",
    "                   labelsize=axis_textsize, colors='k', length=3, width=1)\n",
    "    ax.tick_params(axis='both', which='major',\n",
    "                   labelsize=axis_textsize, colors='k', length=5, width=1.25)\n",
    "    ax.spines['top'].set_visible(False)\n",
    "    ax.spines['right'].set_visible(False)\n",
    "    ax.spines['bottom'].set_linewidth(2)\n",
    "    ax.spines['left'].set_linewidth(2)\n",
    "    # ax.legend(fontsize=lfs, frameon=False, handlelength=4, ncol=1, prop={\n",
    "    #         'size': leg_textsize, 'family': 'Times New Roman'}, fancybox=True, framealpha=0.9, handletextpad=0.7, columnspacing=0.7)\n",
    "fig,ax = plt.subplots(nrows=1, ncols=1, figsize=(7, 5), tight_layout=True)\n",
    "ax.plot(mag_f[0], mag_f[1], c='r', linestyle='-', mfc='k',\n",
    "              mec='k', markersize=m, marker='o', label=r' $h$(pc)')\n",
    "axis_pars(ax)\n",
    "ax.set_xlabel(r'h (pc)', fontsize=fs)\n",
    "ax.set_ylabel(r'correlation length (pc)', fontsize=fs)"
   ]
  },
  {
   "cell_type": "code",
   "execution_count": null,
   "metadata": {},
   "outputs": [],
   "source": []
  },
  {
   "cell_type": "code",
   "execution_count": null,
   "metadata": {},
   "outputs": [],
   "source": []
  }
 ],
 "metadata": {
  "kernelspec": {
   "display_name": "Python 3",
   "language": "python",
   "name": "python3"
  },
  "language_info": {
   "codemirror_mode": {
    "name": "ipython",
    "version": 3
   },
   "file_extension": ".py",
   "mimetype": "text/x-python",
   "name": "python",
   "nbconvert_exporter": "python",
   "pygments_lexer": "ipython3",
   "version": "3.11.5"
  },
  "orig_nbformat": 4
 },
 "nbformat": 4,
 "nbformat_minor": 2
}
