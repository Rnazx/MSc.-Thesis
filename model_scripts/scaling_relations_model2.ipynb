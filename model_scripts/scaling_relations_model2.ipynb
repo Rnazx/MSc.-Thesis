{
 "cells": [
  {
   "cell_type": "code",
   "execution_count": 54,
   "metadata": {},
   "outputs": [],
   "source": [
    "import numpy as np\n",
    "import matplotlib.pyplot as plt\n",
    "from sympy import *\n",
    "from fractions import Fraction\n"
   ]
  },
  {
   "cell_type": "code",
   "execution_count": 55,
   "metadata": {},
   "outputs": [
    {
     "data": {
      "text/latex": [
       "$\\displaystyle \\Sigma_{tot}$"
      ],
      "text/plain": [
       "Sigma_tot"
      ]
     },
     "execution_count": 55,
     "metadata": {},
     "output_type": "execute_result"
    }
   ],
   "source": [
    "# Defining the Observables\n",
    "q = Symbol('q')\n",
    "omega = Symbol('\\Omega')\n",
    "sigma = Symbol('\\Sigma')\n",
    "sigmatot = Symbol('Sigma_tot')\n",
    "sigmasfr = Symbol('Sigma_SFR')\n",
    "T = Symbol('T')\n",
    "\n",
    "\n",
    "# Defining the Constants\n",
    "calpha = Symbol('C_alpha')\n",
    "gamma = Symbol('gamma')\n",
    "boltz = Symbol('k_B')\n",
    "mu = Symbol('mu')\n",
    "mh = Symbol('m_H')\n",
    "G = Symbol('G')\n",
    "xio = Symbol('xi_0')\n",
    "delta = Symbol('\\delta')\n",
    "mstar = Symbol('m_*')\n",
    "cl = Symbol('C_l')\n",
    "kappa = Symbol('kappa')\n",
    "\n",
    "# Defining the general parameters\n",
    "u = Symbol('u')\n",
    "tau = Symbol('tau')\n",
    "l = Symbol('l')\n",
    "mach = Symbol('M')\n",
    "\n",
    "\n",
    "# Defining the expressions\n",
    "cs = (gamma*boltz*T/(mu*mh))**Rational(1/2)\n",
    "# Ralpha = alphak*h/eta\n",
    "# Romega = -q*omega*h**2/eta\n",
    "\n",
    "\n",
    "sigmatot\n"
   ]
  },
  {
   "cell_type": "markdown",
   "metadata": {},
   "source": [
    "## Model 2"
   ]
  },
  {
   "cell_type": "markdown",
   "metadata": {},
   "source": [
    "#### $M$ << $\\sqrt2$"
   ]
  },
  {
   "cell_type": "code",
   "execution_count": 56,
   "metadata": {},
   "outputs": [],
   "source": [
    "h = (2*cs**2)/(3*pi*G*sigmatot)\n",
    "nu = (delta*sigmasfr)/(2*h*mstar)\n"
   ]
  },
  {
   "cell_type": "markdown",
   "metadata": {},
   "source": [
    "### Evaluating expressions"
   ]
  },
  {
   "cell_type": "code",
   "execution_count": 57,
   "metadata": {},
   "outputs": [
    {
     "data": {
      "text/latex": [
       "$\\displaystyle \\frac{2 T \\gamma k_{B}}{3 \\pi G \\Sigma_{tot} m_{H} \\mu}$"
      ],
      "text/plain": [
       "2*T*gamma*k_B/(3*pi*G*Sigma_tot*m_H*mu)"
      ]
     },
     "execution_count": 57,
     "metadata": {},
     "output_type": "execute_result"
    }
   ],
   "source": [
    "from fractions import Fraction\n",
    "l = cl*h\n",
    "usn = ((4*pi/3)*l**4*cs**2*nu)**Fraction(1, 3)\n",
    "a = [(u, usn)]\n",
    "h = simplify(h.subs(a))\n",
    "h\n"
   ]
  },
  {
   "cell_type": "code",
   "execution_count": 58,
   "metadata": {},
   "outputs": [
    {
     "data": {
      "text/latex": [
       "$\\displaystyle \\frac{2 C_{l} T \\gamma k_{B}}{3 \\pi G \\Sigma_{tot} m_{H} \\mu}$"
      ],
      "text/plain": [
       "2*C_l*T*gamma*k_B/(3*pi*G*Sigma_tot*m_H*mu)"
      ]
     },
     "execution_count": 58,
     "metadata": {},
     "output_type": "execute_result"
    }
   ],
   "source": [
    "l = simplify(l.subs(a))\n",
    "l\n"
   ]
  },
  {
   "cell_type": "code",
   "execution_count": 59,
   "metadata": {},
   "outputs": [
    {
     "data": {
      "text/latex": [
       "$\\displaystyle \\frac{2 \\cdot \\sqrt[3]{2} \\cdot 3^{\\frac{2}{3}} \\sqrt[3]{\\frac{C_{l}^{4} \\Sigma_{SFR} T^{4} \\delta \\gamma^{4} k_{B}^{4}}{G^{3} \\Sigma_{tot}^{3} m_{*} m_{H}^{4} \\mu^{4}}}}{9 \\pi^{\\frac{2}{3}}}$"
      ],
      "text/plain": [
       "2*2**(1/3)*3**(2/3)*(C_l**4*Sigma_SFR*T**4*\\delta*gamma**4*k_B**4/(G**3*Sigma_tot**3*m_**m_H**4*mu**4))**(1/3)/(9*pi**(2/3))"
      ]
     },
     "execution_count": 59,
     "metadata": {},
     "output_type": "execute_result"
    }
   ],
   "source": [
    "u = simplify(u.subs(a))\n",
    "u\n"
   ]
  },
  {
   "cell_type": "code",
   "execution_count": 60,
   "metadata": {},
   "outputs": [
    {
     "data": {
      "text/latex": [
       "$\\displaystyle \\frac{2^{\\frac{2}{3}} \\cdot \\sqrt[3]{3} C_{l} T \\gamma k_{B}}{2 \\sqrt[3]{\\pi} G \\Sigma_{tot} m_{H} \\mu \\sqrt[3]{\\frac{C_{l}^{4} \\Sigma_{SFR} T^{4} \\delta \\gamma^{4} k_{B}^{4}}{G^{3} \\Sigma_{tot}^{3} m_{*} m_{H}^{4} \\mu^{4}}}}$"
      ],
      "text/plain": [
       "2**(2/3)*3**(1/3)*C_l*T*gamma*k_B/(2*pi**(1/3)*G*Sigma_tot*m_H*mu*(C_l**4*Sigma_SFR*T**4*\\delta*gamma**4*k_B**4/(G**3*Sigma_tot**3*m_**m_H**4*mu**4))**(1/3))"
      ]
     },
     "execution_count": 60,
     "metadata": {},
     "output_type": "execute_result"
    }
   ],
   "source": [
    "tau = l/u\n",
    "tau = simplify(tau.subs(a))\n",
    "tau\n"
   ]
  },
  {
   "cell_type": "code",
   "execution_count": 61,
   "metadata": {},
   "outputs": [
    {
     "data": {
      "text/latex": [
       "$\\displaystyle \\frac{2 \\cdot \\sqrt[3]{2} \\cdot \\sqrt[6]{3} \\sqrt[3]{\\pi} \\xi_{0}^{0.5} \\sqrt{\\frac{G \\Sigma_{tot} \\Sigma m_{H} \\mu}{T \\gamma k_{B}}} \\sqrt[3]{\\frac{C_{l}^{4} \\Sigma_{SFR} T^{4} \\delta \\gamma^{4} k_{B}^{4}}{G^{3} \\Sigma_{tot}^{3} m_{*} m_{H}^{4} \\mu^{4}}}}{3}$"
      ],
      "text/plain": [
       "2*2**(1/3)*3**(1/6)*pi**(1/3)*xi_0**0.5*sqrt(G*Sigma_tot*\\Sigma*m_H*mu/(T*gamma*k_B))*(C_l**4*Sigma_SFR*T**4*\\delta*gamma**4*k_B**4/(G**3*Sigma_tot**3*m_**m_H**4*mu**4))**(1/3)/3"
      ]
     },
     "execution_count": 61,
     "metadata": {},
     "output_type": "execute_result"
    }
   ],
   "source": [
    "rho = sigma/(2*h)\n",
    "Beq = u*(4*pi*rho)**Rational(1/2)\n",
    "biso = (Beq*(xio**(1/2)))\n",
    "biso = simplify(biso.subs(a))\n",
    "biso = biso.powsimp(force=True)\n",
    "biso\n"
   ]
  },
  {
   "cell_type": "code",
   "execution_count": 62,
   "metadata": {},
   "outputs": [
    {
     "data": {
      "text/latex": [
       "$\\displaystyle \\frac{2^{\\frac{2}{3}} \\sqrt{222399981598543} \\cdot 3^{\\frac{5}{6}} \\sqrt[6]{\\pi} \\xi_{0}^{0.5} \\sqrt{\\frac{C_{l} \\Omega \\Sigma q}{\\sqrt[3]{\\frac{C_{l}^{4} \\Sigma_{SFR} T^{4} \\delta \\gamma^{4} k_{B}^{4}}{G^{3} \\Sigma_{tot}^{3} m_{*} m_{H}^{4} \\mu^{4}}}}} \\sqrt[3]{\\frac{C_{l}^{4} \\Sigma_{SFR} T^{4} \\delta \\gamma^{4} k_{B}^{4}}{G^{3} \\Sigma_{tot}^{3} m_{*} m_{H}^{4} \\mu^{4}}}}{67108864}$"
      ],
      "text/plain": [
       "2**(2/3)*sqrt(222399981598543)*3**(5/6)*pi**(1/6)*xi_0**0.5*sqrt(C_l*\\Omega*\\Sigma*q/(C_l**4*Sigma_SFR*T**4*\\delta*gamma**4*k_B**4/(G**3*Sigma_tot**3*m_**m_H**4*mu**4))**(1/3))*(C_l**4*Sigma_SFR*T**4*\\delta*gamma**4*k_B**4/(G**3*Sigma_tot**3*m_**m_H**4*mu**4))**(1/3)/67108864"
      ]
     },
     "execution_count": 62,
     "metadata": {},
     "output_type": "execute_result"
    }
   ],
   "source": [
    "bani = biso*(Rational(2/3)*q*omega)**Rational(1/2)*(tau**Rational(1/2))\n",
    "\n",
    "bani = simplify(bani.subs(a))\n",
    "bani = bani.powsimp(force=True)\n",
    "bani\n"
   ]
  },
  {
   "cell_type": "code",
   "execution_count": 63,
   "metadata": {},
   "outputs": [
    {
     "data": {
      "text/latex": [
       "$\\displaystyle \\frac{8 \\sqrt{6} C_{l} \\sqrt[3]{\\frac{C_{l}^{4} \\Sigma_{SFR} T^{4} \\delta \\gamma^{4} k_{B}^{4}}{G^{3} \\Sigma_{tot}^{3} m_{*} m_{H}^{4} \\mu^{4}}} \\sqrt{\\frac{C_{\\alpha} R_{k} T \\Omega^{2} \\Sigma \\gamma k_{B} q}{G \\Sigma_{tot} m_{H} \\mu \\left(\\frac{C_{l}^{4} \\Sigma_{SFR} T^{4} \\delta \\gamma^{4} k_{B}^{4}}{G^{3} \\Sigma_{tot}^{3} m_{*} m_{H}^{4} \\mu^{4}}\\right)^{\\frac{2}{3}}}}}{\\pi^{\\frac{3}{2}}}$"
      ],
      "text/plain": [
       "8*sqrt(6)*C_l*(C_l**4*Sigma_SFR*T**4*\\delta*gamma**4*k_B**4/(G**3*Sigma_tot**3*m_**m_H**4*mu**4))**(1/3)*sqrt(C_alpha*R_k*T*\\Omega**2*\\Sigma*gamma*k_B*q/(G*Sigma_tot*m_H*mu*(C_l**4*Sigma_SFR*T**4*\\delta*gamma**4*k_B**4/(G**3*Sigma_tot**3*m_**m_H**4*mu**4))**(2/3)))/pi**(3/2)"
      ]
     },
     "execution_count": 63,
     "metadata": {},
     "output_type": "execute_result"
    }
   ],
   "source": [
    "eta = tau*(u**2)/3\n",
    "Rk = Symbol('R_k')\n",
    "Dk = -(9*calpha*q*(h**2)*(omega**2))/u**2\n",
    "Dc = -(pi**5)/32\n",
    "rho = sigma/(2*h)\n",
    "Beq = (4*pi*rho)**Rational(1/2)*u\n",
    "Bbar = (pi*Beq*l*(Rk*(Dk/Dc))**Rational(1/2))/h\n",
    "\n",
    "Bbar = simplify(Bbar.subs(a))\n",
    "Bbar = Bbar.powsimp(force=True)\n",
    "Bbar\n"
   ]
  },
  {
   "cell_type": "code",
   "execution_count": 64,
   "metadata": {},
   "outputs": [
    {
     "data": {
      "text/latex": [
       "$\\displaystyle - \\frac{\\sqrt[3]{2} \\cdot 3^{\\frac{2}{3}} \\pi^{\\frac{7}{3}} C_{l} G \\Sigma_{tot} m_{H} \\mu \\sqrt[3]{\\frac{C_{l}^{4} \\Sigma_{SFR} T^{4} \\delta \\gamma^{4} k_{B}^{4}}{G^{3} \\Sigma_{tot}^{3} m_{*} m_{H}^{4} \\mu^{4}}}}{36 T \\Omega \\gamma k_{B} q}$"
      ],
      "text/plain": [
       "-2**(1/3)*3**(2/3)*pi**(7/3)*C_l*G*Sigma_tot*m_H*mu*(C_l**4*Sigma_SFR*T**4*\\delta*gamma**4*k_B**4/(G**3*Sigma_tot**3*m_**m_H**4*mu**4))**(1/3)/(36*T*\\Omega*gamma*k_B*q)"
      ]
     },
     "execution_count": 64,
     "metadata": {},
     "output_type": "execute_result"
    }
   ],
   "source": [
    "tanpb = -((pi**2)*tau*(u**2))/(12*q*omega*(h**2))\n",
    "tanpb = simplify(tanpb.subs(a))\n",
    "tanpb = tanpb.subs([(tau, tau), (l, l)])\n",
    "tanpb = simplify(tanpb)\n",
    "tanpb\n"
   ]
  },
  {
   "cell_type": "code",
   "execution_count": 65,
   "metadata": {},
   "outputs": [],
   "source": [
    "quantities = [ h, l, u, tau, biso, bani, Bbar, tanpb ]\n",
    "import pickle\n",
    "with open(\"model2a.txt\", \"wb\") as outf:\n",
    "    pickle.dump(quantities, outf)"
   ]
  },
  {
   "cell_type": "code",
   "execution_count": 66,
   "metadata": {},
   "outputs": [
    {
     "name": "stdout",
     "output_type": "stream",
     "text": [
      "The power to which the observable Sigma_tot is raised is: 0\n",
      "The power to which the observable \\Sigma is raised is: 0\n",
      "The power to which the observable Sigma_SFR is raised is: 1/3\n",
      "The power to which the observable \\Omega is raised is: -1\n",
      "The power to which the observable q is raised is: -1\n",
      "The power to which the observable T is raised is: 1/3\n",
      "The scaling relation is \n"
     ]
    },
    {
     "data": {
      "text/latex": [
       "$\\displaystyle \\frac{\\sqrt[3]{\\Sigma_{SFR}} \\sqrt[3]{T}}{\\Omega q}$"
      ],
      "text/plain": [
       "Sigma_SFR**(1/3)*T**(1/3)/(\\Omega*q)"
      ]
     },
     "execution_count": 66,
     "metadata": {},
     "output_type": "execute_result"
    }
   ],
   "source": [
    "from sympy.plotting import plot3d, plot\n",
    "const = [(gamma, 1), (boltz, 1), (mh, 2), (mu, 1), (mach, sqrt(2)), (G, 1),\n",
    "         (cl, 5), (xio, 0.4), (kappa, 1), (calpha, 1), (Rk, 1), (mstar, 1), (delta, 1)]\n",
    "variables = [(sigmatot, 1), (sigma, 1), (sigmasfr, 1),\n",
    "             (omega, 1), (q, 1), (T, 1)]\n",
    "\n",
    "# quantity to be plotted\n",
    "quan = tanpb\n",
    "# observable to be varied\n",
    "observ = [variables[i][0] for i in range(len(variables))]\n",
    "# powers for scaling relations\n",
    "powe = []\n",
    "# plotting the scaling relations\n",
    "for obs in observ:\n",
    "    variables = [(sigmatot, 1), (sigma, 1), (sigmasfr, 1),\n",
    "                 (omega, 1), (q, 1), (T, 1)]\n",
    "    variables.remove((obs, 1))\n",
    "    final = const + variables\n",
    "    z = quan.subs(final)\n",
    "    powe.append(diff(log(z), obs)*obs)\n",
    "    print('The power to which the observable {} is raised is: {}'.format(\n",
    "        str(obs), diff(log(z), obs)*obs))\n",
    "    # p = plot(z, (obs, 1, 1000), xscale='log',\n",
    "    #          yscale='log', xlabel=obs, ylabel='Quantity')\n",
    "    # p.show\n",
    "\n",
    "# verifying scaling relation\n",
    "scaling = np.power(observ, powe)\n",
    "relation = 1\n",
    "for i in scaling:\n",
    "    relation *= i\n",
    "\n",
    "print('The scaling relation is ')\n",
    "relation\n"
   ]
  },
  {
   "cell_type": "code",
   "execution_count": 67,
   "metadata": {},
   "outputs": [
    {
     "data": {
      "text/latex": [
       "$\\displaystyle \\Sigma_{tot}$"
      ],
      "text/plain": [
       "Sigma_tot"
      ]
     },
     "execution_count": 67,
     "metadata": {},
     "output_type": "execute_result"
    }
   ],
   "source": [
    "# Defining the Observables\n",
    "q = Symbol('q')\n",
    "omega = Symbol('\\Omega')\n",
    "sigma = Symbol('\\Sigma')\n",
    "sigmatot = Symbol('Sigma_tot')\n",
    "sigmasfr = Symbol('Sigma_SFR')\n",
    "T = Symbol('T')\n",
    "\n",
    "\n",
    "# Defining the Constants\n",
    "calpha = Symbol('C_alpha')\n",
    "gamma = Symbol('gamma')\n",
    "boltz = Symbol('k_B')\n",
    "mu = Symbol('mu')\n",
    "mh = Symbol('m_H')\n",
    "G = Symbol('G')\n",
    "xio = Symbol('xi_0')\n",
    "delta = Symbol('\\delta')\n",
    "mstar = Symbol('m_*')\n",
    "cl = Symbol('C_l')\n",
    "kappa = Symbol('kappa')\n",
    "\n",
    "# Defining the general parameters\n",
    "u = Symbol('u')\n",
    "tau = Symbol('tau')\n",
    "l = Symbol('l')\n",
    "mach = Symbol('M')\n",
    "\n",
    "\n",
    "# Defining the expressions\n",
    "cs = (gamma*boltz*T/(mu*mh))**Rational(1/2)\n",
    "# Ralpha = alphak*h/eta\n",
    "# Romega = -q*omega*h**2/eta\n",
    "\n",
    "\n",
    "sigmatot\n"
   ]
  },
  {
   "cell_type": "markdown",
   "metadata": {},
   "source": [
    "#### $M$ >> $\\sqrt2$"
   ]
  },
  {
   "cell_type": "code",
   "execution_count": 68,
   "metadata": {},
   "outputs": [],
   "source": [
    "#h = (u**2)/(3*pi*G*sigmatot)\n",
    "h = Symbol('h')\n",
    "nu = (delta*sigmasfr)/(2*h*mstar)\n"
   ]
  },
  {
   "cell_type": "markdown",
   "metadata": {},
   "source": [
    "### Evaluating expressions"
   ]
  },
  {
   "cell_type": "code",
   "execution_count": 69,
   "metadata": {},
   "outputs": [
    {
     "data": {
      "text/latex": [
       "$\\displaystyle \\frac{3 \\cdot \\sqrt[3]{2} \\cdot 3^{\\frac{2}{3}} \\sqrt[3]{\\pi} G \\Sigma_{tot}}{2 \\left(\\frac{C_{l}^{4} \\Sigma_{SFR} T \\delta \\gamma k_{B}}{m_{*} m_{H} \\mu}\\right)^{\\frac{2}{3}}}$"
      ],
      "text/plain": [
       "3*2**(1/3)*3**(2/3)*pi**(1/3)*G*Sigma_tot/(2*(C_l**4*Sigma_SFR*T*\\delta*gamma*k_B/(m_**m_H*mu))**(2/3))"
      ]
     },
     "execution_count": 69,
     "metadata": {},
     "output_type": "execute_result"
    }
   ],
   "source": [
    "l = cl*h\n",
    "u = ((4*pi/3)*(l)**4*cs**2*(nu))**Fraction(1, 3)\n",
    "usn = u.subs(h, 1)\n",
    "h = ((usn**2)/(3*pi*G*sigmatot))**(Fraction(-1, 1))\n",
    "# a = [(u,usn)]\n",
    "# h = (simplify(h.subs(a)))**Fraction(-31,15)\n",
    "# usn\n",
    "h\n"
   ]
  },
  {
   "cell_type": "code",
   "execution_count": 70,
   "metadata": {},
   "outputs": [
    {
     "data": {
      "text/latex": [
       "$\\displaystyle \\frac{3 \\cdot \\sqrt[3]{2} \\cdot 3^{\\frac{2}{3}} \\sqrt[3]{\\pi} C_{l} G \\Sigma_{tot}}{2 \\left(\\frac{C_{l}^{4} \\Sigma_{SFR} T \\delta \\gamma k_{B}}{m_{*} m_{H} \\mu}\\right)^{\\frac{2}{3}}}$"
      ],
      "text/plain": [
       "3*2**(1/3)*3**(2/3)*pi**(1/3)*C_l*G*Sigma_tot/(2*(C_l**4*Sigma_SFR*T*\\delta*gamma*k_B/(m_**m_H*mu))**(2/3))"
      ]
     },
     "execution_count": 70,
     "metadata": {},
     "output_type": "execute_result"
    }
   ],
   "source": [
    "l = cl*h\n",
    "l = simplify(l)\n",
    "l\n"
   ]
  },
  {
   "cell_type": "code",
   "execution_count": 71,
   "metadata": {},
   "outputs": [
    {
     "data": {
      "text/latex": [
       "$\\displaystyle \\frac{3 \\cdot 2^{\\frac{2}{3}} \\cdot \\sqrt[3]{3} \\pi^{\\frac{2}{3}} \\sqrt[3]{\\frac{G^{3} \\Sigma_{tot}^{3} m_{*} m_{H} \\mu}{C_{l}^{4} \\Sigma_{SFR} T \\delta \\gamma k_{B}}}}{2}$"
      ],
      "text/plain": [
       "3*2**(2/3)*3**(1/3)*pi**(2/3)*(G**3*Sigma_tot**3*m_**m_H*mu/(C_l**4*Sigma_SFR*T*\\delta*gamma*k_B))**(1/3)/2"
      ]
     },
     "execution_count": 71,
     "metadata": {},
     "output_type": "execute_result"
    }
   ],
   "source": [
    "nu = (delta*sigmasfr)/(2*h*mstar)\n",
    "u = ((4*pi/3)*(l)**4*cs**2*(nu))**Fraction(1, 3)\n",
    "#u = simplify(u).subs([(l,l),(h,h)])\n",
    "u\n"
   ]
  },
  {
   "cell_type": "code",
   "execution_count": 72,
   "metadata": {},
   "outputs": [
    {
     "data": {
      "text/latex": [
       "$\\displaystyle \\frac{2^{\\frac{2}{3}} \\cdot \\sqrt[3]{3} C_{l} G \\Sigma_{tot}}{2 \\sqrt[3]{\\pi} \\left(\\frac{C_{l}^{4} \\Sigma_{SFR} T \\delta \\gamma k_{B}}{m_{*} m_{H} \\mu}\\right)^{\\frac{2}{3}} \\sqrt[3]{\\frac{G^{3} \\Sigma_{tot}^{3} m_{*} m_{H} \\mu}{C_{l}^{4} \\Sigma_{SFR} T \\delta \\gamma k_{B}}}}$"
      ],
      "text/plain": [
       "2**(2/3)*3**(1/3)*C_l*G*Sigma_tot/(2*pi**(1/3)*(C_l**4*Sigma_SFR*T*\\delta*gamma*k_B/(m_**m_H*mu))**(2/3)*(G**3*Sigma_tot**3*m_**m_H*mu/(C_l**4*Sigma_SFR*T*\\delta*gamma*k_B))**(1/3))"
      ]
     },
     "execution_count": 72,
     "metadata": {},
     "output_type": "execute_result"
    }
   ],
   "source": [
    "tau = l/u\n",
    "tau = simplify(tau)\n",
    "tau\n"
   ]
  },
  {
   "cell_type": "code",
   "execution_count": 73,
   "metadata": {},
   "outputs": [
    {
     "data": {
      "text/latex": [
       "$\\displaystyle \\frac{2^{\\frac{5}{6}} \\cdot \\sqrt[6]{3} \\sqrt[3]{\\pi} \\xi_{0}^{0.5} \\sqrt{\\frac{T \\Sigma \\gamma k_{B} \\left(\\frac{C_{l}^{4} \\Sigma_{SFR} T \\delta \\gamma k_{B}}{m_{*} m_{H} \\mu}\\right)^{\\frac{2}{3}}}{G \\Sigma_{tot} m_{H} \\mu}}}{3}$"
      ],
      "text/plain": [
       "2**(5/6)*3**(1/6)*pi**(1/3)*xi_0**0.5*sqrt(T*\\Sigma*gamma*k_B*(C_l**4*Sigma_SFR*T*\\delta*gamma*k_B/(m_**m_H*mu))**(2/3)/(G*Sigma_tot*m_H*mu))/3"
      ]
     },
     "execution_count": 73,
     "metadata": {},
     "output_type": "execute_result"
    }
   ],
   "source": [
    "rho = sigma/(2*h)\n",
    "Beq = u*(4*pi*rho)**Rational(1/2)\n",
    "biso = (Beq*(xio**(1/2)))/(u/cs)\n",
    "biso = simplify(biso)\n",
    "biso = biso.powsimp(force=True)\n",
    "biso\n"
   ]
  },
  {
   "cell_type": "code",
   "execution_count": 74,
   "metadata": {},
   "outputs": [
    {
     "data": {
      "text/latex": [
       "$\\displaystyle \\frac{\\sqrt[6]{2} \\sqrt{222399981598543} \\cdot 3^{\\frac{5}{6}} \\sqrt[6]{\\pi} \\xi_{0}^{0.5} \\sqrt{\\frac{C_{l} T \\Omega \\Sigma \\gamma k_{B} q}{m_{H} \\mu \\sqrt[3]{\\frac{G^{3} \\Sigma_{tot}^{3} m_{*} m_{H} \\mu}{C_{l}^{4} \\Sigma_{SFR} T \\delta \\gamma k_{B}}}}}}{67108864}$"
      ],
      "text/plain": [
       "2**(1/6)*sqrt(222399981598543)*3**(5/6)*pi**(1/6)*xi_0**0.5*sqrt(C_l*T*\\Omega*\\Sigma*gamma*k_B*q/(m_H*mu*(G**3*Sigma_tot**3*m_**m_H*mu/(C_l**4*Sigma_SFR*T*\\delta*gamma*k_B))**(1/3)))/67108864"
      ]
     },
     "execution_count": 74,
     "metadata": {},
     "output_type": "execute_result"
    }
   ],
   "source": [
    "bani = biso*(Rational(2/3)*q*omega)**Rational(1/2)*(tau**Rational(1/2))\n",
    "\n",
    "bani = simplify(bani)\n",
    "bani = bani.powsimp(force=True)\n",
    "bani\n"
   ]
  },
  {
   "cell_type": "code",
   "execution_count": 75,
   "metadata": {},
   "outputs": [
    {
     "data": {
      "text/latex": [
       "$\\displaystyle \\frac{12 \\cdot 2^{\\frac{2}{3}} \\cdot 3^{\\frac{5}{6}} C_{l} \\sqrt{\\frac{C_{\\alpha} G R_{k} \\Sigma_{tot} \\Omega^{2} \\Sigma q}{\\left(\\frac{C_{l}^{4} \\Sigma_{SFR} T \\delta \\gamma k_{B}}{m_{*} m_{H} \\mu}\\right)^{\\frac{2}{3}} \\left(\\frac{G^{3} \\Sigma_{tot}^{3} m_{*} m_{H} \\mu}{C_{l}^{4} \\Sigma_{SFR} T \\delta \\gamma k_{B}}\\right)^{\\frac{2}{3}}}} \\sqrt[3]{\\frac{G^{3} \\Sigma_{tot}^{3} m_{*} m_{H} \\mu}{C_{l}^{4} \\Sigma_{SFR} T \\delta \\gamma k_{B}}}}{\\pi^{\\frac{5}{6}}}$"
      ],
      "text/plain": [
       "12*2**(2/3)*3**(5/6)*C_l*sqrt(C_alpha*G*R_k*Sigma_tot*\\Omega**2*\\Sigma*q/((C_l**4*Sigma_SFR*T*\\delta*gamma*k_B/(m_**m_H*mu))**(2/3)*(G**3*Sigma_tot**3*m_**m_H*mu/(C_l**4*Sigma_SFR*T*\\delta*gamma*k_B))**(2/3)))*(G**3*Sigma_tot**3*m_**m_H*mu/(C_l**4*Sigma_SFR*T*\\delta*gamma*k_B))**(1/3)/pi**(5/6)"
      ]
     },
     "execution_count": 75,
     "metadata": {},
     "output_type": "execute_result"
    }
   ],
   "source": [
    "eta = tau*(u**2)/3\n",
    "Rk = Symbol('R_k')\n",
    "Dk = -(9*calpha*q*(h**2)*(omega**2))/u**2\n",
    "Dc = -(pi**5)/32\n",
    "rho = sigma/(2*h)\n",
    "Beq = (4*pi*rho)**Rational(1/2)*u\n",
    "Bbar = (pi*Beq*l*(Rk*(Dk/Dc))**Rational(1/2))/h\n",
    "\n",
    "Bbar = simplify(Bbar)\n",
    "Bbar = Bbar.powsimp(force=True)\n",
    "Bbar\n"
   ]
  },
  {
   "cell_type": "code",
   "execution_count": 76,
   "metadata": {},
   "outputs": [
    {
     "data": {
      "text/latex": [
       "$\\displaystyle - \\frac{\\sqrt[3]{2} \\cdot 3^{\\frac{2}{3}} \\pi^{\\frac{7}{3}} C_{l} \\left(\\frac{C_{l}^{4} \\Sigma_{SFR} T \\delta \\gamma k_{B}}{m_{*} m_{H} \\mu}\\right)^{\\frac{2}{3}} \\sqrt[3]{\\frac{G^{3} \\Sigma_{tot}^{3} m_{*} m_{H} \\mu}{C_{l}^{4} \\Sigma_{SFR} T \\delta \\gamma k_{B}}}}{36 G \\Sigma_{tot} \\Omega q}$"
      ],
      "text/plain": [
       "-2**(1/3)*3**(2/3)*pi**(7/3)*C_l*(C_l**4*Sigma_SFR*T*\\delta*gamma*k_B/(m_**m_H*mu))**(2/3)*(G**3*Sigma_tot**3*m_**m_H*mu/(C_l**4*Sigma_SFR*T*\\delta*gamma*k_B))**(1/3)/(36*G*Sigma_tot*\\Omega*q)"
      ]
     },
     "execution_count": 76,
     "metadata": {},
     "output_type": "execute_result"
    }
   ],
   "source": [
    "tanpb = -((pi**2)*tau*(u**2))/(12*q*omega*(h**2))\n",
    "tanpb = simplify(tanpb)\n",
    "tanpb = tanpb.subs([(tau, tau), (l, l)])\n",
    "tanpb = simplify(tanpb)\n",
    "tanpb\n"
   ]
  },
  {
   "cell_type": "code",
   "execution_count": 77,
   "metadata": {},
   "outputs": [],
   "source": [
    "quantities = [ h, l, u, tau, biso, bani, Bbar, tanpb ]\n",
    "import pickle\n",
    "with open(\"model2b.txt\", \"wb\") as outf:\n",
    "    pickle.dump(quantities, outf)"
   ]
  },
  {
   "cell_type": "code",
   "execution_count": 78,
   "metadata": {},
   "outputs": [
    {
     "name": "stdout",
     "output_type": "stream",
     "text": [
      "The power to which the observable Sigma_tot is raised is: -0.500000000000000\n",
      "The power to which the observable \\Sigma is raised is: 0.500000000000000\n",
      "The power to which the observable Sigma_SFR is raised is: 0.166666666666667\n",
      "The power to which the observable \\Omega is raised is: 0.500000000000000\n",
      "The power to which the observable q is raised is: 0.500000000000000\n",
      "The power to which the observable T is raised is: 0.666666666666667\n",
      "The scaling relation is \n"
     ]
    },
    {
     "data": {
      "text/latex": [
       "$\\displaystyle \\frac{\\Sigma_{SFR}^{0.166666666666667} T^{0.666666666666667} \\Omega^{0.5} \\Sigma^{0.5} q^{0.5}}{\\Sigma_{tot}^{0.5}}$"
      ],
      "text/plain": [
       "Sigma_SFR**0.166666666666667*T**0.666666666666667*\\Omega**0.5*\\Sigma**0.5*q**0.5/Sigma_tot**0.5"
      ]
     },
     "execution_count": 78,
     "metadata": {},
     "output_type": "execute_result"
    }
   ],
   "source": [
    "from sympy.plotting import plot3d, plot\n",
    "const = [(gamma, 1), (boltz, 1), (mh, 2), (mu, 1), (mach, sqrt(2)), (G, 1),\n",
    "         (cl, 5), (xio, 0.4), (kappa, 1), (calpha, 1), (Rk, 1), (mstar, 1), (delta, 1)]\n",
    "variables = [(sigmatot, 1), (sigma, 1), (sigmasfr, 1),\n",
    "             (omega, 1), (q, 1), (T, 1)]\n",
    "\n",
    "# quantity to be plotted\n",
    "quan = bani\n",
    "# observable to be varied\n",
    "observ = [variables[i][0] for i in range(len(variables))]\n",
    "# powers for scaling relations\n",
    "powe = []\n",
    "# plotting the scaling relations\n",
    "for obs in observ:\n",
    "    variables = [(sigmatot, 1), (sigma, 1), (sigmasfr, 1),\n",
    "                 (omega, 1), (q, 1), (T, 1)]\n",
    "    variables.remove((obs, 1))\n",
    "    final = const + variables\n",
    "    z = quan.subs(final)\n",
    "    powe.append(diff(log(z), obs)*obs)\n",
    "    print('The power to which the observable {} is raised is: {}'.format(\n",
    "        str(obs), diff(log(z), obs)*obs))\n",
    "    # p = plot(z, (obs, 1, 1000), xscale='log',\n",
    "    #          yscale='log', xlabel=obs, ylabel='Quantity')\n",
    "    # p.show\n",
    "\n",
    "# verifying scaling relation\n",
    "scaling = np.power(observ, powe)\n",
    "relation = 1\n",
    "for i in scaling:\n",
    "    relation *= i\n",
    "\n",
    "print('The scaling relation is ')\n",
    "relation\n"
   ]
  }
 ],
 "metadata": {
  "kernelspec": {
   "display_name": "Python 3.8.12 ('tensorflow')",
   "language": "python",
   "name": "python3"
  },
  "language_info": {
   "codemirror_mode": {
    "name": "ipython",
    "version": 3
   },
   "file_extension": ".py",
   "mimetype": "text/x-python",
   "name": "python",
   "nbconvert_exporter": "python",
   "pygments_lexer": "ipython3",
   "version": "3.8.12"
  },
  "orig_nbformat": 4,
  "vscode": {
   "interpreter": {
    "hash": "288072cf381227fb2780b277adce38e4e338ecf5ea021577e68ec58525da43f2"
   }
  }
 },
 "nbformat": 4,
 "nbformat_minor": 2
}
