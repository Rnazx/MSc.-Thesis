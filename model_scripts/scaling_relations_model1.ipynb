{
 "cells": [
  {
   "cell_type": "code",
   "execution_count": 23,
   "metadata": {},
   "outputs": [],
   "source": [
    "import numpy as np\n",
    "import matplotlib.pyplot as plt\n",
    "from sympy import *\n"
   ]
  },
  {
   "cell_type": "code",
   "execution_count": 24,
   "metadata": {},
   "outputs": [
    {
     "data": {
      "text/latex": [
       "$\\displaystyle \\Sigma_{tot}$"
      ],
      "text/plain": [
       "Sigma_tot"
      ]
     },
     "execution_count": 24,
     "metadata": {},
     "output_type": "execute_result"
    }
   ],
   "source": [
    "# Defining the Observables\n",
    "q = Symbol('q')\n",
    "omega = Symbol('\\Omega')\n",
    "sigma = Symbol('\\Sigma')\n",
    "sigmatot = Symbol('Sigma_tot')\n",
    "sigmasfr = Symbol('Sigma_SFR')\n",
    "T = Symbol('T')\n",
    "\n",
    "\n",
    "# Defining the Constants\n",
    "calpha = Symbol('C_alpha')\n",
    "gamma = Symbol('gamma')\n",
    "boltz = Symbol('k_B')\n",
    "mu = Symbol('mu')\n",
    "mh = Symbol('m_H')\n",
    "G = Symbol('G')\n",
    "xio = Symbol('xi_0')\n",
    "delta = Symbol('\\delta')\n",
    "mstar = Symbol('m_*')\n",
    "cl = Symbol('C_l')\n",
    "kappa = Symbol('kappa')\n",
    "\n",
    "# Defining the general parameters\n",
    "u = Symbol('u')\n",
    "tau = Symbol('tau')\n",
    "l = Symbol('l')\n",
    "mach = Symbol('M')\n",
    "\n",
    "\n",
    "# Defining the expressions\n",
    "cs = (gamma*boltz*T/(mu*mh))**Rational(1/2)\n",
    "h = (u**2 + 2*cs**2)/(3*pi*G*sigmatot)\n",
    "nu = (delta*sigmasfr)/(2*h*mstar)\n",
    "alphak = calpha*tau**2*(u**2)*omega/h\n",
    "# Ralpha = alphak*h/eta\n",
    "# Romega = -q*omega*h**2/eta\n",
    "\n",
    "\n",
    "sigmatot\n"
   ]
  },
  {
   "cell_type": "markdown",
   "metadata": {},
   "source": [
    "## Model 1"
   ]
  },
  {
   "cell_type": "markdown",
   "metadata": {},
   "source": [
    "### Evaluating expressions"
   ]
  },
  {
   "cell_type": "code",
   "execution_count": 25,
   "metadata": {},
   "outputs": [
    {
     "data": {
      "text/latex": [
       "$\\displaystyle \\frac{T \\gamma k_{B} \\left(M^{2} + 2\\right)}{3 \\pi G \\Sigma_{tot} m_{H} \\mu}$"
      ],
      "text/plain": [
       "T*gamma*k_B*(M**2 + 2)/(3*pi*G*Sigma_tot*m_H*mu)"
      ]
     },
     "execution_count": 25,
     "metadata": {},
     "output_type": "execute_result"
    }
   ],
   "source": [
    "l = cl*h\n",
    "a = [(u, mach*cs)]\n",
    "h = simplify(h.subs(a))\n",
    "h\n"
   ]
  },
  {
   "cell_type": "code",
   "execution_count": 26,
   "metadata": {},
   "outputs": [
    {
     "data": {
      "text/latex": [
       "$\\displaystyle \\frac{C_{l} T \\gamma k_{B} \\left(M^{2} + 2\\right)}{3 \\pi G \\Sigma_{tot} m_{H} \\mu}$"
      ],
      "text/plain": [
       "C_l*T*gamma*k_B*(M**2 + 2)/(3*pi*G*Sigma_tot*m_H*mu)"
      ]
     },
     "execution_count": 26,
     "metadata": {},
     "output_type": "execute_result"
    }
   ],
   "source": [
    "l = simplify(l.subs(a))\n",
    "l\n"
   ]
  },
  {
   "cell_type": "code",
   "execution_count": 27,
   "metadata": {},
   "outputs": [
    {
     "data": {
      "text/latex": [
       "$\\displaystyle M \\sqrt{\\frac{T \\gamma k_{B}}{m_{H} \\mu}}$"
      ],
      "text/plain": [
       "M*sqrt(T*gamma*k_B/(m_H*mu))"
      ]
     },
     "execution_count": 27,
     "metadata": {},
     "output_type": "execute_result"
    }
   ],
   "source": [
    "u = simplify(u.subs(a))\n",
    "u\n"
   ]
  },
  {
   "cell_type": "code",
   "execution_count": 28,
   "metadata": {},
   "outputs": [
    {
     "data": {
      "text/latex": [
       "$\\displaystyle \\frac{C_{l} \\sqrt{\\frac{T \\gamma k_{B}}{m_{H} \\mu}} \\left(M^{2} + 2\\right)}{3 \\pi G M \\Sigma_{tot}}$"
      ],
      "text/plain": [
       "C_l*sqrt(T*gamma*k_B/(m_H*mu))*(M**2 + 2)/(3*pi*G*M*Sigma_tot)"
      ]
     },
     "execution_count": 28,
     "metadata": {},
     "output_type": "execute_result"
    }
   ],
   "source": [
    "tau = l/u\n",
    "tau = simplify(tau.subs(a))\n",
    "tau\n"
   ]
  },
  {
   "cell_type": "code",
   "execution_count": 29,
   "metadata": {},
   "outputs": [
    {
     "data": {
      "text/latex": [
       "$\\displaystyle \\frac{\\sqrt{6} \\pi M \\xi_{0}^{0.5} \\sqrt{\\frac{G \\Sigma_{tot} \\Sigma}{M^{2} + 2}}}{\\max\\left(1, M\\right)}$"
      ],
      "text/plain": [
       "sqrt(6)*pi*M*xi_0**0.5*sqrt(G*Sigma_tot*\\Sigma/(M**2 + 2))/Max(1, M)"
      ]
     },
     "execution_count": 29,
     "metadata": {},
     "output_type": "execute_result"
    }
   ],
   "source": [
    "rho = sigma/(2*h)\n",
    "Beq = u*(4*pi*rho)**Rational(1/2)\n",
    "biso = (Beq*(xio**(1/2)))/Max(1, mach)\n",
    "biso = simplify(biso.subs(a))\n",
    "biso = biso.powsimp(force=True)\n",
    "biso\n"
   ]
  },
  {
   "cell_type": "code",
   "execution_count": 30,
   "metadata": {},
   "outputs": [
    {
     "data": {
      "text/latex": [
       "$\\displaystyle \\frac{3 \\sqrt{667199944795629} \\sqrt{\\pi} M \\xi_{0}^{0.5} \\sqrt{\\frac{C_{l} \\Omega \\Sigma q \\sqrt{\\frac{T \\gamma k_{B}}{m_{H} \\mu}}}{M}}}{67108864 \\max\\left(1, M\\right)}$"
      ],
      "text/plain": [
       "3*sqrt(667199944795629)*sqrt(pi)*M*xi_0**0.5*sqrt(C_l*\\Omega*\\Sigma*q*sqrt(T*gamma*k_B/(m_H*mu))/M)/(67108864*Max(1, M))"
      ]
     },
     "execution_count": 30,
     "metadata": {},
     "output_type": "execute_result"
    }
   ],
   "source": [
    "bani = biso*(Rational(2/3)*q*omega)**Rational(1/2)*(tau**Rational(1/2))\n",
    "\n",
    "bani = simplify(bani.subs(a))\n",
    "bani = bani.powsimp(force=True)\n",
    "bani\n"
   ]
  },
  {
   "cell_type": "code",
   "execution_count": 31,
   "metadata": {},
   "outputs": [
    {
     "data": {
      "text/latex": [
       "$\\displaystyle \\frac{8 \\sqrt{3} C_{l} M \\sqrt{\\frac{C_{\\alpha} R_{k} T \\Omega^{2} \\Sigma \\gamma k_{B} q \\left(M^{2} + 2\\right)}{G M^{2} \\Sigma_{tot} m_{H} \\mu}}}{\\pi^{\\frac{3}{2}}}$"
      ],
      "text/plain": [
       "8*sqrt(3)*C_l*M*sqrt(C_alpha*R_k*T*\\Omega**2*\\Sigma*gamma*k_B*q*(M**2 + 2)/(G*M**2*Sigma_tot*m_H*mu))/pi**(3/2)"
      ]
     },
     "execution_count": 31,
     "metadata": {},
     "output_type": "execute_result"
    }
   ],
   "source": [
    "eta = tau*(u**2)/3\n",
    "Rk = Symbol('R_k')\n",
    "Dk = -(9*calpha*q*(h**2)*(omega**2))/u**2\n",
    "Dc = -(pi**5)/32\n",
    "rho = sigma/(2*h)\n",
    "Beq = (4*pi*rho)**Rational(1/2)*u\n",
    "Bbar = (pi*Beq*l*(Rk*(Dk/Dc))**Rational(1/2))/h\n",
    "\n",
    "Bbar = simplify(Bbar.subs(a))\n",
    "Bbar = Bbar.powsimp(force=True)\n",
    "Bbar\n"
   ]
  },
  {
   "cell_type": "code",
   "execution_count": 32,
   "metadata": {},
   "outputs": [
    {
     "data": {
      "text/latex": [
       "$\\displaystyle - \\frac{\\pi^{3} C_{l} G M \\Sigma_{tot} m_{H} \\mu \\sqrt{\\frac{T \\gamma k_{B}}{m_{H} \\mu}}}{4 T \\Omega \\gamma k_{B} q \\left(M^{2} + 2\\right)}$"
      ],
      "text/plain": [
       "-pi**3*C_l*G*M*Sigma_tot*m_H*mu*sqrt(T*gamma*k_B/(m_H*mu))/(4*T*\\Omega*gamma*k_B*q*(M**2 + 2))"
      ]
     },
     "execution_count": 32,
     "metadata": {},
     "output_type": "execute_result"
    }
   ],
   "source": [
    "tanpb = -((pi**2)*tau*(u**2))/(12*q*omega*(h**2))\n",
    "tanpb = simplify(tanpb.subs(a))\n",
    "tanpb = tanpb.subs([(tau, tau), (l, l)])\n",
    "tanpb = simplify(tanpb)\n",
    "tanpb\n"
   ]
  },
  {
   "cell_type": "code",
   "execution_count": 33,
   "metadata": {},
   "outputs": [],
   "source": [
    "quantities = [ h, l, u, tau, biso, bani, Bbar, tanpb ]\n",
    "import pickle\n",
    "with open(\"model1.txt\", \"wb\") as outf:\n",
    "    pickle.dump(quantities, outf)"
   ]
  },
  {
   "cell_type": "code",
   "execution_count": 34,
   "metadata": {},
   "outputs": [
    {
     "name": "stdout",
     "output_type": "stream",
     "text": [
      "The power to which the observable $\\Sigma_{tot}$ is raised is:-1/2\n",
      "The power to which the observable $\\Sigma$ is raised is:1/2\n",
      "The power to which the observable $\\Sigma_{SFR}$ is raised is:0\n",
      "The power to which the observable $\\Omega$ is raised is:1\n",
      "The power to which the observable $q$ is raised is:1/2\n",
      "The power to which the observable $T$ is raised is:1/2\n",
      "The scaling relation is \n"
     ]
    },
    {
     "data": {
      "text/latex": [
       "$\\displaystyle \\frac{\\sqrt{T} \\Omega \\sqrt{\\Sigma} \\sqrt{q}}{\\sqrt{\\Sigma_{tot}}}$"
      ],
      "text/plain": [
       "sqrt(T)*\\Omega*sqrt(\\Sigma)*sqrt(q)/sqrt(Sigma_tot)"
      ]
     },
     "execution_count": 34,
     "metadata": {},
     "output_type": "execute_result"
    }
   ],
   "source": [
    "from sympy.plotting import plot3d, plot\n",
    "const = [(gamma, 1), (boltz, 1), (mh, 2), (mu, 1), (mach, sqrt(2)),\n",
    "         (G, 1), (cl, 5), (xio, 0.4), (kappa, 1), (calpha, 1), (Rk, 1)]\n",
    "variables = [(sigmatot, 1), (sigma, 1), (sigmasfr, 1),\n",
    "             (omega, 1), (q, 1), (T, 1)]\n",
    "\n",
    "# quantity to be plotted\n",
    "quan = Bbar\n",
    "# observable to be varied\n",
    "observ = [variables[i][0] for i in range(len(variables))]\n",
    "# powers for scaling relations\n",
    "powe = []\n",
    "# plotting the scaling relations\n",
    "for obs in observ:\n",
    "    variables = [(sigmatot, 1), (sigma, 1), (sigmasfr, 1),\n",
    "                 (omega, 1), (q, 1), (T, 1)]\n",
    "    variables.remove((obs, 1))\n",
    "    final = const + variables\n",
    "    z = quan.subs(final)\n",
    "    powe.append(diff(log(z), obs)*obs)\n",
    "    print('The power to which the observable $'+latex(obs)+'$ is raised is:'+ str(diff(log(z), obs)*obs))\n",
    "    # p = plot(z, (obs, 1, 1000), xscale='log',\n",
    "    #          yscale='log', xlabel=obs, ylabel='Quantity')\n",
    "    # p.show\n",
    "\n",
    "# verifying scaling relation\n",
    "scaling = np.power(observ, powe)\n",
    "relation = 1\n",
    "for i in scaling:\n",
    "    relation *= i\n",
    "\n",
    "print('The scaling relation is ')\n",
    "relation\n"
   ]
  },
  {
   "cell_type": "code",
   "execution_count": null,
   "metadata": {},
   "outputs": [],
   "source": []
  }
 ],
 "metadata": {
  "kernelspec": {
   "display_name": "Python 3.8.12 ('tensorflow')",
   "language": "python",
   "name": "python3"
  },
  "language_info": {
   "codemirror_mode": {
    "name": "ipython",
    "version": 3
   },
   "file_extension": ".py",
   "mimetype": "text/x-python",
   "name": "python",
   "nbconvert_exporter": "python",
   "pygments_lexer": "ipython3",
   "version": "3.8.12"
  },
  "orig_nbformat": 4,
  "vscode": {
   "interpreter": {
    "hash": "288072cf381227fb2780b277adce38e4e338ecf5ea021577e68ec58525da43f2"
   }
  }
 },
 "nbformat": 4,
 "nbformat_minor": 2
}
