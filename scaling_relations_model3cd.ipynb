{
 "cells": [
  {
   "cell_type": "code",
   "execution_count": 53,
   "metadata": {},
   "outputs": [],
   "source": [
    "import numpy as np\n",
    "import matplotlib.pyplot as plt\n",
    "from sympy import *\n",
    "from fractions import Fraction\n"
   ]
  },
  {
   "cell_type": "code",
   "execution_count": 54,
   "metadata": {},
   "outputs": [
    {
     "data": {
      "text/latex": [
       "$\\displaystyle \\Sigma_{tot}$"
      ],
      "text/plain": [
       "Sigma_tot"
      ]
     },
     "execution_count": 54,
     "metadata": {},
     "output_type": "execute_result"
    }
   ],
   "source": [
    " #Defining the Observables\n",
    "q = Symbol('q')\n",
    "omega = Symbol('\\Omega')\n",
    "sigma = Symbol('\\Sigma')\n",
    "sigmatot = Symbol('Sigma_tot')\n",
    "sigmasfr = Symbol('Sigma_SFR')\n",
    "T = Symbol('T')\n",
    "\n",
    "\n",
    "#Defining the Constants\n",
    "calpha = Symbol('C_alpha')\n",
    "gamma = Symbol('gamma')\n",
    "boltz = Symbol('k_B')\n",
    "mu = Symbol('mu')\n",
    "mh = Symbol('m_H')\n",
    "G = Symbol('G')\n",
    "xio = Symbol('xi_0')\n",
    "delta = Symbol('\\delta')\n",
    "mstar = Symbol('m_*')\n",
    "cl = Symbol('C_l')\n",
    "kappa = Symbol('kappa')\n",
    "\n",
    "#Defining the general parameters\n",
    "u = Symbol('u')\n",
    "tau = Symbol('tau')\n",
    "l = Symbol('l')\n",
    "mach = Symbol('M')\n",
    "\n",
    "\n",
    "#Defining the expressions\n",
    "cs = (gamma*boltz*T/(mu*mh))**Rational(1/2)\n",
    "# Ralpha = alphak*h/eta\n",
    "# Romega = -q*omega*h**2/eta\n",
    "\n",
    "\n",
    "sigmatot\n"
   ]
  },
  {
   "cell_type": "markdown",
   "metadata": {},
   "source": [
    "## Model 3"
   ]
  },
  {
   "cell_type": "markdown",
   "metadata": {},
   "source": [
    "#### $M$ << $\\sqrt2$"
   ]
  },
  {
   "cell_type": "code",
   "execution_count": 55,
   "metadata": {},
   "outputs": [],
   "source": [
    "h = (2*cs**2)/(3*pi*G*sigmatot)\n",
    "nu = (delta*sigmasfr)/(2*h*mstar)\n"
   ]
  },
  {
   "cell_type": "markdown",
   "metadata": {},
   "source": [
    "### Evaluating expressions"
   ]
  },
  {
   "cell_type": "code",
   "execution_count": 56,
   "metadata": {},
   "outputs": [
    {
     "data": {
      "text/latex": [
       "$\\displaystyle \\frac{0.154930560161868 \\cdot \\sqrt[3]{10} E_{51}^{\\frac{16}{51}}}{\\pi^{\\frac{19}{51}} \\sqrt[6]{\\frac{T \\gamma k_{B}}{m_{H} \\mu}} \\left(\\frac{G \\Sigma_{tot} \\Sigma \\mu}{T \\gamma k_{B}}\\right)^{\\frac{19}{51}}}$"
      ],
      "text/plain": [
       "0.154930560161868*10**(1/3)*E_51**(16/51)/(pi**(19/51)*(T*gamma*k_B/(m_H*mu))**(1/6)*(G*Sigma_tot*\\Sigma*mu/(T*gamma*k_B))**(19/51))"
      ]
     },
     "execution_count": 56,
     "metadata": {},
     "output_type": "execute_result"
    }
   ],
   "source": [
    "\n",
    "rho = sigma/(2*h)\n",
    "n = rho/((14/11)*mh)\n",
    "E51 = Symbol('E_51')\n",
    "lsn = (E51)**Fraction(16,51)*(n/0.1)**Fraction(-19, 51)*(cs/10)**Fraction(-1, 3)\n",
    "l = (3/10)*lsn\n",
    "l = simplify(l)\n",
    "l"
   ]
  },
  {
   "cell_type": "code",
   "execution_count": 57,
   "metadata": {},
   "outputs": [
    {
     "data": {
      "text/latex": [
       "$\\displaystyle \\frac{2 T \\gamma k_{B}}{3 \\pi G \\Sigma_{tot} m_{H} \\mu}$"
      ],
      "text/plain": [
       "2*T*gamma*k_B/(3*pi*G*Sigma_tot*m_H*mu)"
      ]
     },
     "execution_count": 57,
     "metadata": {},
     "output_type": "execute_result"
    }
   ],
   "source": [
    "from fractions import Fraction\n",
    "usn = ((4*pi/3)*l**4*cs**2*nu)**Fraction(1,3)\n",
    "a = [(u,usn)]\n",
    "h = simplify(h.subs(a))\n",
    "h"
   ]
  },
  {
   "cell_type": "code",
   "execution_count": 58,
   "metadata": {},
   "outputs": [
    {
     "data": {
      "text/latex": [
       "$\\displaystyle 0.231540641701548 \\pi^{\\frac{26}{153}} \\sqrt[3]{\\frac{E_{51}^{\\frac{64}{51}} G \\Sigma_{SFR} \\Sigma_{tot} \\delta}{m_{*} \\left(\\frac{T \\gamma k_{B}}{m_{H} \\mu}\\right)^{\\frac{2}{3}} \\left(\\frac{G \\Sigma_{tot} \\Sigma \\mu}{T \\gamma k_{B}}\\right)^{\\frac{76}{51}}}}$"
      ],
      "text/plain": [
       "0.231540641701548*pi**(26/153)*(E_51**(64/51)*G*Sigma_SFR*Sigma_tot*\\delta/(m_**(T*gamma*k_B/(m_H*mu))**(2/3)*(G*Sigma_tot*\\Sigma*mu/(T*gamma*k_B))**(76/51)))**(1/3)"
      ]
     },
     "execution_count": 58,
     "metadata": {},
     "output_type": "execute_result"
    }
   ],
   "source": [
    "u = simplify(u.subs(a))\n",
    "u"
   ]
  },
  {
   "cell_type": "code",
   "execution_count": 59,
   "metadata": {},
   "outputs": [
    {
     "data": {
      "text/latex": [
       "$\\displaystyle \\frac{82.2830067624384 \\pi^{\\frac{2}{17}} m_{*} \\left(\\frac{T \\gamma k_{B}}{m_{H} \\mu}\\right)^{\\frac{3}{2}} \\left(\\frac{G \\Sigma_{tot} \\Sigma \\mu}{T \\gamma k_{B}}\\right)^{\\frac{19}{17}}}{E_{51}^{\\frac{16}{51}} G \\Sigma_{SFR} \\Sigma_{tot} \\delta}$"
      ],
      "text/plain": [
       "82.2830067624384*pi**(2/17)*m_**(T*gamma*k_B/(m_H*mu))**(3/2)*(G*Sigma_tot*\\Sigma*mu/(T*gamma*k_B))**(19/17)/(E_51**(16/51)*G*Sigma_SFR*Sigma_tot*\\delta)"
      ]
     },
     "execution_count": 59,
     "metadata": {},
     "output_type": "execute_result"
    }
   ],
   "source": [
    "tau = 6.8*(1/4)*(nu/50)**(-1)*(E51)**Fraction(-16,51)*(n/0.1)**Fraction(19, 17)*(cs/10)\n",
    "tau = simplify(tau.subs(a))\n",
    "tau"
   ]
  },
  {
   "cell_type": "code",
   "execution_count": 60,
   "metadata": {},
   "outputs": [
    {
     "data": {
      "text/latex": [
       "$\\displaystyle 0.231540641701548 \\sqrt{3} \\pi^{\\frac{179}{153}} \\xi_{0}^{0.5} \\sqrt[3]{\\frac{E_{51}^{\\frac{64}{51}} G \\Sigma_{SFR} \\Sigma_{tot} \\delta}{m_{*} \\left(\\frac{T \\gamma k_{B}}{m_{H} \\mu}\\right)^{\\frac{2}{3}} \\left(\\frac{G \\Sigma_{tot} \\Sigma \\mu}{T \\gamma k_{B}}\\right)^{\\frac{76}{51}}}} \\sqrt{\\frac{G \\Sigma_{tot} \\Sigma m_{H} \\mu}{T \\gamma k_{B}}}$"
      ],
      "text/plain": [
       "0.231540641701548*sqrt(3)*pi**(179/153)*xi_0**0.5*(E_51**(64/51)*G*Sigma_SFR*Sigma_tot*\\delta/(m_**(T*gamma*k_B/(m_H*mu))**(2/3)*(G*Sigma_tot*\\Sigma*mu/(T*gamma*k_B))**(76/51)))**(1/3)*sqrt(G*Sigma_tot*\\Sigma*m_H*mu/(T*gamma*k_B))"
      ]
     },
     "execution_count": 60,
     "metadata": {},
     "output_type": "execute_result"
    }
   ],
   "source": [
    "rho = sigma/(2*h)\n",
    "Beq = u*(4*pi*rho)**Rational(1/2)\n",
    "biso = (Beq*(xio**(1/2)))\n",
    "biso = simplify(biso.subs(a))\n",
    "biso = biso.powsimp(force = True)\n",
    "biso"
   ]
  },
  {
   "cell_type": "code",
   "execution_count": 61,
   "metadata": {},
   "outputs": [
    {
     "data": {
      "text/latex": [
       "$\\displaystyle 1.4083640661242 \\cdot 10^{-7} \\sqrt{444799963197086} \\pi^{\\frac{188}{153}} \\xi_{0}^{0.5} \\sqrt[3]{\\frac{E_{51}^{\\frac{64}{51}} G \\Sigma_{SFR} \\Sigma_{tot} \\delta}{m_{*} \\left(\\frac{T \\gamma k_{B}}{m_{H} \\mu}\\right)^{\\frac{2}{3}} \\left(\\frac{G \\Sigma_{tot} \\Sigma \\mu}{T \\gamma k_{B}}\\right)^{\\frac{76}{51}}}} \\sqrt{\\frac{\\Omega \\Sigma m_{*} m_{H} \\mu q \\left(\\frac{T \\gamma k_{B}}{m_{H} \\mu}\\right)^{\\frac{3}{2}} \\left(\\frac{G \\Sigma_{tot} \\Sigma \\mu}{T \\gamma k_{B}}\\right)^{\\frac{19}{17}}}{E_{51}^{\\frac{16}{51}} \\Sigma_{SFR} T \\delta \\gamma k_{B}}}$"
      ],
      "text/plain": [
       "1.4083640661242e-7*sqrt(444799963197086)*pi**(188/153)*xi_0**0.5*(E_51**(64/51)*G*Sigma_SFR*Sigma_tot*\\delta/(m_**(T*gamma*k_B/(m_H*mu))**(2/3)*(G*Sigma_tot*\\Sigma*mu/(T*gamma*k_B))**(76/51)))**(1/3)*sqrt(\\Omega*\\Sigma*m_**m_H*mu*q*(T*gamma*k_B/(m_H*mu))**(3/2)*(G*Sigma_tot*\\Sigma*mu/(T*gamma*k_B))**(19/17)/(E_51**(16/51)*Sigma_SFR*T*\\delta*gamma*k_B))"
      ]
     },
     "execution_count": 61,
     "metadata": {},
     "output_type": "execute_result"
    }
   ],
   "source": [
    "bani = biso*(Rational(2/3)*q*omega)**Rational(1/2)*(tau**Rational(1/2))\n",
    "\n",
    "bani = simplify(bani.subs(a))\n",
    "bani = bani.powsimp(force = True)\n",
    "bani"
   ]
  },
  {
   "cell_type": "code",
   "execution_count": 62,
   "metadata": {},
   "outputs": [
    {
     "data": {
      "text/latex": [
       "$\\displaystyle \\frac{2.62925879288369 \\cdot \\sqrt[3]{10} \\sqrt{3} E_{51}^{\\frac{16}{51}} G \\Sigma_{tot} m_{H} \\mu \\sqrt[3]{\\frac{E_{51}^{\\frac{64}{51}} G \\Sigma_{SFR} \\Sigma_{tot} \\delta}{m_{*} \\left(\\frac{T \\gamma k_{B}}{m_{H} \\mu}\\right)^{\\frac{2}{3}} \\left(\\frac{G \\Sigma_{tot} \\Sigma \\mu}{T \\gamma k_{B}}\\right)^{\\frac{76}{51}}}} \\sqrt{\\frac{C_{\\alpha} R_{k} T \\Omega^{2} \\Sigma \\gamma k_{B} q}{G \\Sigma_{tot} m_{H} \\mu \\left(\\frac{E_{51}^{\\frac{64}{51}} G \\Sigma_{SFR} \\Sigma_{tot} \\delta}{m_{*} \\left(\\frac{T \\gamma k_{B}}{m_{H} \\mu}\\right)^{\\frac{2}{3}} \\left(\\frac{G \\Sigma_{tot} \\Sigma \\mu}{T \\gamma k_{B}}\\right)^{\\frac{76}{51}}}\\right)^{\\frac{2}{3}}}}}{\\pi^{\\frac{89}{102}} T \\gamma k_{B} \\sqrt[6]{\\frac{T \\gamma k_{B}}{m_{H} \\mu}} \\left(\\frac{G \\Sigma_{tot} \\Sigma \\mu}{T \\gamma k_{B}}\\right)^{\\frac{19}{51}}}$"
      ],
      "text/plain": [
       "2.62925879288369*10**(1/3)*sqrt(3)*E_51**(16/51)*G*Sigma_tot*m_H*mu*(E_51**(64/51)*G*Sigma_SFR*Sigma_tot*\\delta/(m_**(T*gamma*k_B/(m_H*mu))**(2/3)*(G*Sigma_tot*\\Sigma*mu/(T*gamma*k_B))**(76/51)))**(1/3)*sqrt(C_alpha*R_k*T*\\Omega**2*\\Sigma*gamma*k_B*q/(G*Sigma_tot*m_H*mu*(E_51**(64/51)*G*Sigma_SFR*Sigma_tot*\\delta/(m_**(T*gamma*k_B/(m_H*mu))**(2/3)*(G*Sigma_tot*\\Sigma*mu/(T*gamma*k_B))**(76/51)))**(2/3)))/(pi**(89/102)*T*gamma*k_B*(T*gamma*k_B/(m_H*mu))**(1/6)*(G*Sigma_tot*\\Sigma*mu/(T*gamma*k_B))**(19/51))"
      ]
     },
     "execution_count": 62,
     "metadata": {},
     "output_type": "execute_result"
    }
   ],
   "source": [
    "eta = tau*(u**2)/3\n",
    "Rk = Symbol('R_k')\n",
    "Dk = -(9*calpha*q*(h**2)*(omega**2))/u**2\n",
    "Dc = -(pi**5)/32\n",
    "rho = sigma/(2*h)\n",
    "Beq = (4*pi*rho)**Rational(1/2)*u\n",
    "Bbar = (pi*Beq*l*(Rk*(Dk/Dc))**Rational(1/2))/h\n",
    "\n",
    "Bbar = simplify(Bbar.subs(a))\n",
    "Bbar = Bbar.powsimp(force = True)\n",
    "Bbar\n"
   ]
  },
  {
   "cell_type": "code",
   "execution_count": 63,
   "metadata": {},
   "outputs": [
    {
     "data": {
      "text/latex": [
       "$\\displaystyle - \\frac{0.827114987490902 \\pi^{\\frac{682}{153}} G \\Sigma_{tot} m_{*} m_{H}^{2} \\mu^{2} \\left(\\frac{T \\gamma k_{B}}{m_{H} \\mu}\\right)^{\\frac{3}{2}} \\left(\\frac{G \\Sigma_{tot} \\Sigma \\mu}{T \\gamma k_{B}}\\right)^{\\frac{19}{17}} \\left(\\frac{E_{51}^{\\frac{64}{51}} G \\Sigma_{SFR} \\Sigma_{tot} \\delta}{m_{*} \\left(\\frac{T \\gamma k_{B}}{m_{H} \\mu}\\right)^{\\frac{2}{3}} \\left(\\frac{G \\Sigma_{tot} \\Sigma \\mu}{T \\gamma k_{B}}\\right)^{\\frac{76}{51}}}\\right)^{\\frac{2}{3}}}{E_{51}^{\\frac{16}{51}} \\Sigma_{SFR} T^{2} \\Omega \\delta \\gamma^{2} k_{B}^{2} q}$"
      ],
      "text/plain": [
       "-0.827114987490902*pi**(682/153)*G*Sigma_tot*m_**m_H**2*mu**2*(T*gamma*k_B/(m_H*mu))**(3/2)*(G*Sigma_tot*\\Sigma*mu/(T*gamma*k_B))**(19/17)*(E_51**(64/51)*G*Sigma_SFR*Sigma_tot*\\delta/(m_**(T*gamma*k_B/(m_H*mu))**(2/3)*(G*Sigma_tot*\\Sigma*mu/(T*gamma*k_B))**(76/51)))**(2/3)/(E_51**(16/51)*Sigma_SFR*T**2*\\Omega*\\delta*gamma**2*k_B**2*q)"
      ]
     },
     "execution_count": 63,
     "metadata": {},
     "output_type": "execute_result"
    }
   ],
   "source": [
    "tanpb = -((pi**2)*tau*(u**2))/(12*q*omega*(h**2))\n",
    "tanpb = simplify(tanpb.subs(a))\n",
    "tanpb = tanpb.subs([(tau,tau),(l,l)])\n",
    "tanpb = simplify(tanpb)\n",
    "tanpb"
   ]
  },
  {
   "cell_type": "code",
   "execution_count": 71,
   "metadata": {},
   "outputs": [
    {
     "name": "stdout",
     "output_type": "stream",
     "text": [
      "The power to which the observable Sigma_tot is raised is: 1.79084967320261\n",
      "The power to which the observable \\Sigma is raised is: 0.124183006535948\n",
      "The power to which the observable Sigma_SFR is raised is: -0.333333333333333\n",
      "The power to which the observable \\Omega is raised is: -1.00000000000000\n",
      "The power to which the observable q is raised is: -1.00000000000000\n",
      "The power to which the observable T is raised is: -1.06862745098039\n",
      "The scaling relation is \n"
     ]
    },
    {
     "data": {
      "text/latex": [
       "$\\displaystyle \\frac{\\Sigma_{tot}^{1.79084967320261} \\Sigma^{0.124183006535948}}{\\Sigma_{SFR}^{0.333333333333333} T^{1.06862745098039} \\Omega^{1.0} q^{1.0}}$"
      ],
      "text/plain": [
       "Sigma_tot**1.79084967320261*\\Sigma**0.124183006535948/(Sigma_SFR**0.333333333333333*T**1.06862745098039*\\Omega**1.0*q**1.0)"
      ]
     },
     "execution_count": 71,
     "metadata": {},
     "output_type": "execute_result"
    }
   ],
   "source": [
    "from sympy.plotting import plot3d, plot\n",
    "const = [(gamma,1),(boltz,1),(mh,1),(mu,1),(mach,sqrt(2)),(G,1),(cl,5),(xio,0.4),(kappa,1),(calpha,1), (Rk,1),(mstar,1),(delta,1),(E51,1)]\n",
    "variables = [(sigmatot,1), (sigma,1),(sigmasfr,1) , (omega,1), (q,1), (T,1)]\n",
    "\n",
    "#quantity to be plotted\n",
    "quan = tanpb\n",
    "#observable to be varied\n",
    "observ = [variables[i][0] for i in range(len(variables))]\n",
    "#powers for scaling relations\n",
    "powe = []\n",
    "#plotting the scaling relations\n",
    "for obs in observ:\n",
    "    variables = [(sigmatot,1), (sigma,1),(sigmasfr,1) , (omega,1), (q,1), (T,1)]\n",
    "    variables.remove((obs,1))\n",
    "    final = const + variables\n",
    "    z = quan.subs(final)\n",
    "    powe.append(diff(log(z),obs)*obs)\n",
    "    print('The power to which the observable {} is raised is: {}'.format(str(obs), diff(log(z),obs)*obs))\n",
    "    p = plot(z, (obs, 1, 1000), xscale='log',yscale='log', xlabel=obs, ylabel='Quantity')\n",
    "    p.show\n",
    "    \n",
    "#verifying scaling relation\n",
    "scaling = np.power(observ, powe)\n",
    "relation = 1\n",
    "for i in scaling:\n",
    "    relation *= i\n",
    "\n",
    "print('The scaling relation is ')\n",
    "relation\n"
   ]
  },
  {
   "cell_type": "code",
   "execution_count": null,
   "metadata": {},
   "outputs": [],
   "source": []
  },
  {
   "cell_type": "code",
   "execution_count": null,
   "metadata": {},
   "outputs": [],
   "source": []
  },
  {
   "cell_type": "code",
   "execution_count": null,
   "metadata": {},
   "outputs": [],
   "source": []
  },
  {
   "cell_type": "code",
   "execution_count": null,
   "metadata": {},
   "outputs": [],
   "source": []
  },
  {
   "cell_type": "code",
   "execution_count": null,
   "metadata": {},
   "outputs": [],
   "source": []
  },
  {
   "cell_type": "code",
   "execution_count": null,
   "metadata": {},
   "outputs": [],
   "source": []
  },
  {
   "cell_type": "code",
   "execution_count": null,
   "metadata": {},
   "outputs": [],
   "source": []
  },
  {
   "cell_type": "code",
   "execution_count": null,
   "metadata": {},
   "outputs": [],
   "source": []
  },
  {
   "cell_type": "code",
   "execution_count": null,
   "metadata": {},
   "outputs": [],
   "source": []
  },
  {
   "cell_type": "code",
   "execution_count": null,
   "metadata": {},
   "outputs": [],
   "source": []
  },
  {
   "cell_type": "code",
   "execution_count": 72,
   "metadata": {},
   "outputs": [
    {
     "data": {
      "text/latex": [
       "$\\displaystyle \\Sigma_{tot}$"
      ],
      "text/plain": [
       "Sigma_tot"
      ]
     },
     "execution_count": 72,
     "metadata": {},
     "output_type": "execute_result"
    }
   ],
   "source": [
    " #Defining the Observables\n",
    "q = Symbol('q')\n",
    "omega = Symbol('\\Omega')\n",
    "sigma = Symbol('\\Sigma')\n",
    "sigmatot = Symbol('Sigma_tot')\n",
    "sigmasfr = Symbol('Sigma_SFR')\n",
    "T = Symbol('T')\n",
    "\n",
    "\n",
    "#Defining the Constants\n",
    "calpha = Symbol('C_alpha')\n",
    "gamma = Symbol('gamma')\n",
    "boltz = Symbol('k_B')\n",
    "mu = Symbol('mu')\n",
    "mh = Symbol('m_H')\n",
    "G = Symbol('G')\n",
    "xio = Symbol('xi_0')\n",
    "delta = Symbol('\\delta')\n",
    "mstar = Symbol('m_*')\n",
    "cl = Symbol('C_l')\n",
    "kappa = Symbol('kappa')\n",
    "\n",
    "#Defining the general parameters\n",
    "u = Symbol('u')\n",
    "tau = Symbol('tau')\n",
    "l = Symbol('l')\n",
    "mach = Symbol('M')\n",
    "\n",
    "\n",
    "#Defining the expressions\n",
    "cs = (gamma*boltz*T/(mu*mh))**Rational(1/2)\n",
    "# Ralpha = alphak*h/eta\n",
    "# Romega = -q*omega*h**2/eta\n",
    "\n",
    "\n",
    "sigmatot\n"
   ]
  },
  {
   "cell_type": "markdown",
   "metadata": {},
   "source": [
    "#### $M$ >> $\\sqrt2$"
   ]
  },
  {
   "cell_type": "code",
   "execution_count": 73,
   "metadata": {},
   "outputs": [],
   "source": [
    "#h = (u**2)/(3*pi*G*sigmatot)\n",
    "h = Symbol('h')\n",
    "nu = (delta*sigmasfr)/(2*h*mstar)\n"
   ]
  },
  {
   "cell_type": "markdown",
   "metadata": {},
   "source": [
    "### Evaluating expressions"
   ]
  },
  {
   "cell_type": "code",
   "execution_count": 74,
   "metadata": {},
   "outputs": [
    {
     "data": {
      "text/latex": [
       "$\\displaystyle \\frac{0.180193747334029 \\cdot \\sqrt[3]{10} E_{51}^{\\frac{16}{51}}}{\\left(\\frac{\\Sigma}{h m_{H}}\\right)^{\\frac{19}{51}} \\sqrt[6]{\\frac{T \\gamma k_{B}}{m_{H} \\mu}}}$"
      ],
      "text/plain": [
       "0.180193747334029*10**(1/3)*E_51**(16/51)/((\\Sigma/(h*m_H))**(19/51)*(T*gamma*k_B/(m_H*mu))**(1/6))"
      ]
     },
     "execution_count": 74,
     "metadata": {},
     "output_type": "execute_result"
    }
   ],
   "source": [
    "rho = sigma/(2*h)\n",
    "n = rho/((14/11)*mh)\n",
    "E51 = Symbol('E_51')\n",
    "lsn = (E51)**Fraction(16,51)*(n/0.1)**Fraction(-19, 51)*(cs/10)**Fraction(-1, 3)\n",
    "l = (3/10)*lsn\n",
    "l = simplify(l)\n",
    "l"
   ]
  },
  {
   "cell_type": "code",
   "execution_count": 75,
   "metadata": {},
   "outputs": [
    {
     "data": {
      "text/latex": [
       "$\\displaystyle \\frac{0.00308414920432799 \\left(\\frac{\\left(\\frac{E_{51}^{\\frac{64}{51}} \\Sigma_{SFR} T \\delta \\gamma k_{B}}{m_{*} m_{H} \\mu \\left(\\frac{\\Sigma}{m_{H}}\\right)^{\\frac{76}{51}} \\left(\\frac{T \\gamma k_{B}}{m_{H} \\mu}\\right)^{\\frac{2}{3}}}\\right)^{\\frac{2}{3}}}{G \\Sigma_{tot}}\\right)^{\\frac{153}{103}}}{\\pi^{\\frac{51}{103}}}$"
      ],
      "text/plain": [
       "0.00308414920432799*((E_51**(64/51)*Sigma_SFR*T*\\delta*gamma*k_B/(m_**m_H*mu*(\\Sigma/m_H)**(76/51)*(T*gamma*k_B/(m_H*mu))**(2/3)))**(2/3)/(G*Sigma_tot))**(153/103)/pi**(51/103)"
      ]
     },
     "execution_count": 75,
     "metadata": {},
     "output_type": "execute_result"
    }
   ],
   "source": [
    "from fractions import Fraction\n",
    "u = ((4*pi/3)*(l)**4*cs**2*(nu))**Fraction(1,3)\n",
    "usn = u.subs(h,1)\n",
    "h = ((usn**2)/(3*pi*G*sigmatot))**Fraction(153,103)\n",
    "# a = [(u,usn)]\n",
    "# h = (simplify(h.subs(a)))**Fraction(-31,15)\n",
    "# usn\n",
    "h"
   ]
  },
  {
   "cell_type": "code",
   "execution_count": 76,
   "metadata": {},
   "outputs": [
    {
     "data": {
      "text/latex": [
       "$\\displaystyle \\frac{0.0209083405183702 \\cdot \\sqrt[3]{10} E_{51}^{\\frac{16}{51}}}{\\pi^{\\frac{19}{103}} \\left(\\frac{\\Sigma}{m_{H} \\left(\\frac{\\left(\\frac{E_{51}^{\\frac{64}{51}} \\Sigma_{SFR} \\delta \\sqrt[3]{\\frac{T \\gamma k_{B}}{m_{H} \\mu}}}{m_{*} \\left(\\frac{\\Sigma}{m_{H}}\\right)^{\\frac{76}{51}}}\\right)^{\\frac{2}{3}}}{G \\Sigma_{tot}}\\right)^{\\frac{153}{103}}}\\right)^{\\frac{19}{51}} \\sqrt[6]{\\frac{T \\gamma k_{B}}{m_{H} \\mu}}}$"
      ],
      "text/plain": [
       "0.0209083405183702*10**(1/3)*E_51**(16/51)/(pi**(19/103)*(\\Sigma/(m_H*((E_51**(64/51)*Sigma_SFR*\\delta*(T*gamma*k_B/(m_H*mu))**(1/3)/(m_**(\\Sigma/m_H)**(76/51)))**(2/3)/(G*Sigma_tot))**(153/103)))**(19/51)*(T*gamma*k_B/(m_H*mu))**(1/6))"
      ]
     },
     "execution_count": 76,
     "metadata": {},
     "output_type": "execute_result"
    }
   ],
   "source": [
    "rho = sigma/(2*h)\n",
    "n = rho/((14/11)*mh)\n",
    "E51 = Symbol('E_51')\n",
    "lsn = (E51)**Fraction(16,51)*(n/0.1)**Fraction(-19, 51)*(cs/10)**Fraction(-1, 3)\n",
    "l = (3/10)*lsn\n",
    "l = simplify(l)\n",
    "l"
   ]
  },
  {
   "cell_type": "code",
   "execution_count": 77,
   "metadata": {},
   "outputs": [
    {
     "data": {
      "text/latex": [
       "$\\displaystyle 0.0961896440007133 \\pi^{\\frac{26}{103}} \\sqrt[3]{\\frac{E_{51}^{\\frac{64}{51}} \\Sigma_{SFR} T \\delta \\gamma k_{B}}{m_{*} m_{H} \\mu \\left(\\frac{\\left(\\frac{E_{51}^{\\frac{64}{51}} \\Sigma_{SFR} T \\delta \\gamma k_{B}}{m_{*} m_{H} \\mu \\left(\\frac{\\Sigma}{m_{H}}\\right)^{\\frac{76}{51}} \\left(\\frac{T \\gamma k_{B}}{m_{H} \\mu}\\right)^{\\frac{2}{3}}}\\right)^{\\frac{2}{3}}}{G \\Sigma_{tot}}\\right)^{\\frac{153}{103}} \\left(\\frac{\\Sigma}{m_{H} \\left(\\frac{\\left(\\frac{E_{51}^{\\frac{64}{51}} \\Sigma_{SFR} \\delta \\sqrt[3]{\\frac{T \\gamma k_{B}}{m_{H} \\mu}}}{m_{*} \\left(\\frac{\\Sigma}{m_{H}}\\right)^{\\frac{76}{51}}}\\right)^{\\frac{2}{3}}}{G \\Sigma_{tot}}\\right)^{\\frac{153}{103}}}\\right)^{\\frac{76}{51}} \\left(\\frac{T \\gamma k_{B}}{m_{H} \\mu}\\right)^{\\frac{2}{3}}}}$"
      ],
      "text/plain": [
       "0.0961896440007133*pi**(26/103)*(E_51**(64/51)*Sigma_SFR*T*\\delta*gamma*k_B/(m_**m_H*mu*((E_51**(64/51)*Sigma_SFR*T*\\delta*gamma*k_B/(m_**m_H*mu*(\\Sigma/m_H)**(76/51)*(T*gamma*k_B/(m_H*mu))**(2/3)))**(2/3)/(G*Sigma_tot))**(153/103)*(\\Sigma/(m_H*((E_51**(64/51)*Sigma_SFR*\\delta*(T*gamma*k_B/(m_H*mu))**(1/3)/(m_**(\\Sigma/m_H)**(76/51)))**(2/3)/(G*Sigma_tot))**(153/103)))**(76/51)*(T*gamma*k_B/(m_H*mu))**(2/3)))**(1/3)"
      ]
     },
     "execution_count": 77,
     "metadata": {},
     "output_type": "execute_result"
    }
   ],
   "source": [
    "nu = (delta*sigmasfr)/(2*h*mstar)\n",
    "u = ((4*pi/3)*(l)**4*cs**2*(nu))**Fraction(1,3)\n",
    "#u = simplify(u).subs([(l,l),(h,h)])\n",
    "u"
   ]
  },
  {
   "cell_type": "code",
   "execution_count": 78,
   "metadata": {},
   "outputs": [
    {
     "data": {
      "text/latex": [
       "$\\displaystyle \\frac{154.877871729647 \\pi^{\\frac{6}{103}} m_{*} \\left(\\frac{\\left(\\frac{E_{51}^{\\frac{64}{51}} \\Sigma_{SFR} \\delta \\sqrt[3]{\\frac{T \\gamma k_{B}}{m_{H} \\mu}}}{m_{*} \\left(\\frac{\\Sigma}{m_{H}}\\right)^{\\frac{76}{51}}}\\right)^{\\frac{2}{3}}}{G \\Sigma_{tot}}\\right)^{\\frac{153}{103}} \\left(\\frac{\\Sigma}{m_{H} \\left(\\frac{\\left(\\frac{E_{51}^{\\frac{64}{51}} \\Sigma_{SFR} \\delta \\sqrt[3]{\\frac{T \\gamma k_{B}}{m_{H} \\mu}}}{m_{*} \\left(\\frac{\\Sigma}{m_{H}}\\right)^{\\frac{76}{51}}}\\right)^{\\frac{2}{3}}}{G \\Sigma_{tot}}\\right)^{\\frac{153}{103}}}\\right)^{\\frac{19}{17}} \\sqrt{\\frac{T \\gamma k_{B}}{m_{H} \\mu}}}{E_{51}^{\\frac{16}{51}} \\Sigma_{SFR} \\delta}$"
      ],
      "text/plain": [
       "154.877871729647*pi**(6/103)*m_**((E_51**(64/51)*Sigma_SFR*\\delta*(T*gamma*k_B/(m_H*mu))**(1/3)/(m_**(\\Sigma/m_H)**(76/51)))**(2/3)/(G*Sigma_tot))**(153/103)*(\\Sigma/(m_H*((E_51**(64/51)*Sigma_SFR*\\delta*(T*gamma*k_B/(m_H*mu))**(1/3)/(m_**(\\Sigma/m_H)**(76/51)))**(2/3)/(G*Sigma_tot))**(153/103)))**(19/17)*sqrt(T*gamma*k_B/(m_H*mu))/(E_51**(16/51)*Sigma_SFR*\\delta)"
      ]
     },
     "execution_count": 78,
     "metadata": {},
     "output_type": "execute_result"
    }
   ],
   "source": [
    "tau = 6.8*(1/4)*(nu/50)**(-1)*(E51)**Fraction(-16,51)*(n/0.1)**Fraction(19, 17)*(cs/10)\n",
    "tau = simplify(tau)\n",
    "tau"
   ]
  },
  {
   "cell_type": "code",
   "execution_count": 79,
   "metadata": {},
   "outputs": [
    {
     "data": {
      "text/latex": [
       "$\\displaystyle 25.4652126871892 \\pi^{\\frac{77}{103}} \\xi_{0}^{0.5} \\sqrt{\\frac{T \\Sigma \\gamma k_{B}}{m_{H} \\mu \\left(\\frac{\\left(\\frac{E_{51}^{\\frac{64}{51}} \\Sigma_{SFR} \\delta \\sqrt[3]{\\frac{T \\gamma k_{B}}{m_{H} \\mu}}}{m_{*} \\left(\\frac{\\Sigma}{m_{H}}\\right)^{\\frac{76}{51}}}\\right)^{\\frac{2}{3}}}{G \\Sigma_{tot}}\\right)^{\\frac{153}{103}}}}$"
      ],
      "text/plain": [
       "25.4652126871892*pi**(77/103)*xi_0**0.5*sqrt(T*\\Sigma*gamma*k_B/(m_H*mu*((E_51**(64/51)*Sigma_SFR*\\delta*(T*gamma*k_B/(m_H*mu))**(1/3)/(m_**(\\Sigma/m_H)**(76/51)))**(2/3)/(G*Sigma_tot))**(153/103)))"
      ]
     },
     "execution_count": 79,
     "metadata": {},
     "output_type": "execute_result"
    }
   ],
   "source": [
    "rho = sigma/(2*h)\n",
    "Beq = u*(4*pi*rho)**Rational(1/2)\n",
    "biso = (Beq*(xio**(1/2)))/(u/cs)\n",
    "biso = simplify(biso)\n",
    "biso = biso.powsimp(force = True)\n",
    "biso"
   ]
  },
  {
   "cell_type": "code",
   "execution_count": 80,
   "metadata": {},
   "outputs": [
    {
     "data": {
      "text/latex": [
       "$\\displaystyle 7.08358917563195 \\cdot 10^{-6} \\sqrt{1334399889591258} \\pi^{\\frac{80}{103}} \\xi_{0}^{0.5} \\sqrt{\\frac{T \\Omega \\Sigma \\gamma k_{B} m_{*} q \\left(\\frac{\\Sigma}{m_{H} \\left(\\frac{\\left(\\frac{E_{51}^{\\frac{64}{51}} \\Sigma_{SFR} \\delta \\sqrt[3]{\\frac{T \\gamma k_{B}}{m_{H} \\mu}}}{m_{*} \\left(\\frac{\\Sigma}{m_{H}}\\right)^{\\frac{76}{51}}}\\right)^{\\frac{2}{3}}}{G \\Sigma_{tot}}\\right)^{\\frac{153}{103}}}\\right)^{\\frac{19}{17}} \\sqrt{\\frac{T \\gamma k_{B}}{m_{H} \\mu}}}{E_{51}^{\\frac{16}{51}} \\Sigma_{SFR} \\delta m_{H} \\mu}}$"
      ],
      "text/plain": [
       "7.08358917563195e-6*sqrt(1334399889591258)*pi**(80/103)*xi_0**0.5*sqrt(T*\\Omega*\\Sigma*gamma*k_B*m_**q*(\\Sigma/(m_H*((E_51**(64/51)*Sigma_SFR*\\delta*(T*gamma*k_B/(m_H*mu))**(1/3)/(m_**(\\Sigma/m_H)**(76/51)))**(2/3)/(G*Sigma_tot))**(153/103)))**(19/17)*sqrt(T*gamma*k_B/(m_H*mu))/(E_51**(16/51)*Sigma_SFR*\\delta*m_H*mu))"
      ]
     },
     "execution_count": 80,
     "metadata": {},
     "output_type": "execute_result"
    }
   ],
   "source": [
    "bani = biso*(Rational(2/3)*q*omega)**Rational(1/2)*(tau**Rational(1/2))\n",
    "\n",
    "bani = simplify(bani)\n",
    "bani = bani.powsimp(force = True)\n",
    "bani"
   ]
  },
  {
   "cell_type": "code",
   "execution_count": 81,
   "metadata": {},
   "outputs": [
    {
     "data": {
      "text/latex": [
       "$\\displaystyle \\frac{9.03572731704874 \\cdot \\sqrt[3]{10} E_{51}^{\\frac{16}{51}} \\sqrt{\\frac{C_{\\alpha} R_{k} \\Omega^{2} \\Sigma q \\left(\\frac{\\left(\\frac{E_{51}^{\\frac{64}{51}} \\Sigma_{SFR} \\delta \\sqrt[3]{\\frac{T \\gamma k_{B}}{m_{H} \\mu}}}{m_{*} \\left(\\frac{\\Sigma}{m_{H}}\\right)^{\\frac{76}{51}}}\\right)^{\\frac{2}{3}}}{G \\Sigma_{tot}}\\right)^{\\frac{153}{103}}}{\\left(\\frac{E_{51}^{\\frac{64}{51}} \\Sigma_{SFR} \\delta \\sqrt[3]{\\frac{T \\gamma k_{B}}{m_{H} \\mu}}}{m_{*} \\left(\\frac{\\left(\\frac{E_{51}^{\\frac{64}{51}} \\Sigma_{SFR} \\delta \\sqrt[3]{\\frac{T \\gamma k_{B}}{m_{H} \\mu}}}{m_{*} \\left(\\frac{\\Sigma}{m_{H}}\\right)^{\\frac{76}{51}}}\\right)^{\\frac{2}{3}}}{G \\Sigma_{tot}}\\right)^{\\frac{153}{103}} \\left(\\frac{\\Sigma}{m_{H} \\left(\\frac{\\left(\\frac{E_{51}^{\\frac{64}{51}} \\Sigma_{SFR} \\delta \\sqrt[3]{\\frac{T \\gamma k_{B}}{m_{H} \\mu}}}{m_{*} \\left(\\frac{\\Sigma}{m_{H}}\\right)^{\\frac{76}{51}}}\\right)^{\\frac{2}{3}}}{G \\Sigma_{tot}}\\right)^{\\frac{153}{103}}}\\right)^{\\frac{76}{51}}}\\right)^{\\frac{2}{3}}}} \\sqrt[3]{\\frac{E_{51}^{\\frac{64}{51}} \\Sigma_{SFR} \\delta \\sqrt[3]{\\frac{T \\gamma k_{B}}{m_{H} \\mu}}}{m_{*} \\left(\\frac{\\left(\\frac{E_{51}^{\\frac{64}{51}} \\Sigma_{SFR} \\delta \\sqrt[3]{\\frac{T \\gamma k_{B}}{m_{H} \\mu}}}{m_{*} \\left(\\frac{\\Sigma}{m_{H}}\\right)^{\\frac{76}{51}}}\\right)^{\\frac{2}{3}}}{G \\Sigma_{tot}}\\right)^{\\frac{153}{103}} \\left(\\frac{\\Sigma}{m_{H} \\left(\\frac{\\left(\\frac{E_{51}^{\\frac{64}{51}} \\Sigma_{SFR} \\delta \\sqrt[3]{\\frac{T \\gamma k_{B}}{m_{H} \\mu}}}{m_{*} \\left(\\frac{\\Sigma}{m_{H}}\\right)^{\\frac{76}{51}}}\\right)^{\\frac{2}{3}}}{G \\Sigma_{tot}}\\right)^{\\frac{153}{103}}}\\right)^{\\frac{76}{51}}}}}{\\pi^{\\frac{193}{206}} \\left(\\frac{\\left(\\frac{E_{51}^{\\frac{64}{51}} \\Sigma_{SFR} \\delta \\sqrt[3]{\\frac{T \\gamma k_{B}}{m_{H} \\mu}}}{m_{*} \\left(\\frac{\\Sigma}{m_{H}}\\right)^{\\frac{76}{51}}}\\right)^{\\frac{2}{3}}}{G \\Sigma_{tot}}\\right)^{\\frac{153}{103}} \\left(\\frac{\\Sigma}{m_{H} \\left(\\frac{\\left(\\frac{E_{51}^{\\frac{64}{51}} \\Sigma_{SFR} \\delta \\sqrt[3]{\\frac{T \\gamma k_{B}}{m_{H} \\mu}}}{m_{*} \\left(\\frac{\\Sigma}{m_{H}}\\right)^{\\frac{76}{51}}}\\right)^{\\frac{2}{3}}}{G \\Sigma_{tot}}\\right)^{\\frac{153}{103}}}\\right)^{\\frac{19}{51}} \\sqrt[6]{\\frac{T \\gamma k_{B}}{m_{H} \\mu}}}$"
      ],
      "text/plain": [
       "9.03572731704874*10**(1/3)*E_51**(16/51)*sqrt(C_alpha*R_k*\\Omega**2*\\Sigma*q*((E_51**(64/51)*Sigma_SFR*\\delta*(T*gamma*k_B/(m_H*mu))**(1/3)/(m_**(\\Sigma/m_H)**(76/51)))**(2/3)/(G*Sigma_tot))**(153/103)/(E_51**(64/51)*Sigma_SFR*\\delta*(T*gamma*k_B/(m_H*mu))**(1/3)/(m_**((E_51**(64/51)*Sigma_SFR*\\delta*(T*gamma*k_B/(m_H*mu))**(1/3)/(m_**(\\Sigma/m_H)**(76/51)))**(2/3)/(G*Sigma_tot))**(153/103)*(\\Sigma/(m_H*((E_51**(64/51)*Sigma_SFR*\\delta*(T*gamma*k_B/(m_H*mu))**(1/3)/(m_**(\\Sigma/m_H)**(76/51)))**(2/3)/(G*Sigma_tot))**(153/103)))**(76/51)))**(2/3))*(E_51**(64/51)*Sigma_SFR*\\delta*(T*gamma*k_B/(m_H*mu))**(1/3)/(m_**((E_51**(64/51)*Sigma_SFR*\\delta*(T*gamma*k_B/(m_H*mu))**(1/3)/(m_**(\\Sigma/m_H)**(76/51)))**(2/3)/(G*Sigma_tot))**(153/103)*(\\Sigma/(m_H*((E_51**(64/51)*Sigma_SFR*\\delta*(T*gamma*k_B/(m_H*mu))**(1/3)/(m_**(\\Sigma/m_H)**(76/51)))**(2/3)/(G*Sigma_tot))**(153/103)))**(76/51)))**(1/3)/(pi**(193/206)*((E_51**(64/51)*Sigma_SFR*\\delta*(T*gamma*k_B/(m_H*mu))**(1/3)/(m_**(\\Sigma/m_H)**(76/51)))**(2/3)/(G*Sigma_tot))**(153/103)*(\\Sigma/(m_H*((E_51**(64/51)*Sigma_SFR*\\delta*(T*gamma*k_B/(m_H*mu))**(1/3)/(m_**(\\Sigma/m_H)**(76/51)))**(2/3)/(G*Sigma_tot))**(153/103)))**(19/51)*(T*gamma*k_B/(m_H*mu))**(1/6))"
      ]
     },
     "execution_count": 81,
     "metadata": {},
     "output_type": "execute_result"
    }
   ],
   "source": [
    "eta = tau*(u**2)/3\n",
    "Rk = Symbol('R_k')\n",
    "Dk = -(9*calpha*q*(h**2)*(omega**2))/u**2\n",
    "Dc = -(pi**5)/32\n",
    "rho = sigma/(2*h)\n",
    "Beq = (4*pi*rho)**Rational(1/2)*u\n",
    "Bbar = (pi*Beq*l*(Rk*(Dk/Dc))**Rational(1/2))/h\n",
    "\n",
    "Bbar = simplify(Bbar)\n",
    "Bbar = Bbar.powsimp(force = True)\n",
    "Bbar\n"
   ]
  },
  {
   "cell_type": "code",
   "execution_count": 82,
   "metadata": {},
   "outputs": [
    {
     "data": {
      "text/latex": [
       "$\\displaystyle - \\frac{12554.3433106533 \\pi^{\\frac{366}{103}} m_{*} \\left(\\frac{\\Sigma}{m_{H} \\left(\\frac{\\left(\\frac{E_{51}^{\\frac{64}{51}} \\Sigma_{SFR} \\delta \\sqrt[3]{\\frac{T \\gamma k_{B}}{m_{H} \\mu}}}{m_{*} \\left(\\frac{\\Sigma}{m_{H}}\\right)^{\\frac{76}{51}}}\\right)^{\\frac{2}{3}}}{G \\Sigma_{tot}}\\right)^{\\frac{153}{103}}}\\right)^{\\frac{19}{17}} \\sqrt{\\frac{T \\gamma k_{B}}{m_{H} \\mu}} \\left(\\frac{E_{51}^{\\frac{64}{51}} \\Sigma_{SFR} \\delta \\sqrt[3]{\\frac{T \\gamma k_{B}}{m_{H} \\mu}}}{m_{*} \\left(\\frac{\\left(\\frac{E_{51}^{\\frac{64}{51}} \\Sigma_{SFR} \\delta \\sqrt[3]{\\frac{T \\gamma k_{B}}{m_{H} \\mu}}}{m_{*} \\left(\\frac{\\Sigma}{m_{H}}\\right)^{\\frac{76}{51}}}\\right)^{\\frac{2}{3}}}{G \\Sigma_{tot}}\\right)^{\\frac{153}{103}} \\left(\\frac{\\Sigma}{m_{H} \\left(\\frac{\\left(\\frac{E_{51}^{\\frac{64}{51}} \\Sigma_{SFR} \\delta \\sqrt[3]{\\frac{T \\gamma k_{B}}{m_{H} \\mu}}}{m_{*} \\left(\\frac{\\Sigma}{m_{H}}\\right)^{\\frac{76}{51}}}\\right)^{\\frac{2}{3}}}{G \\Sigma_{tot}}\\right)^{\\frac{153}{103}}}\\right)^{\\frac{76}{51}}}\\right)^{\\frac{2}{3}}}{E_{51}^{\\frac{16}{51}} \\Sigma_{SFR} \\Omega \\delta q \\left(\\frac{\\left(\\frac{E_{51}^{\\frac{64}{51}} \\Sigma_{SFR} \\delta \\sqrt[3]{\\frac{T \\gamma k_{B}}{m_{H} \\mu}}}{m_{*} \\left(\\frac{\\Sigma}{m_{H}}\\right)^{\\frac{76}{51}}}\\right)^{\\frac{2}{3}}}{G \\Sigma_{tot}}\\right)^{\\frac{153}{103}}}$"
      ],
      "text/plain": [
       "-12554.3433106533*pi**(366/103)*m_**(\\Sigma/(m_H*((E_51**(64/51)*Sigma_SFR*\\delta*(T*gamma*k_B/(m_H*mu))**(1/3)/(m_**(\\Sigma/m_H)**(76/51)))**(2/3)/(G*Sigma_tot))**(153/103)))**(19/17)*sqrt(T*gamma*k_B/(m_H*mu))*(E_51**(64/51)*Sigma_SFR*\\delta*(T*gamma*k_B/(m_H*mu))**(1/3)/(m_**((E_51**(64/51)*Sigma_SFR*\\delta*(T*gamma*k_B/(m_H*mu))**(1/3)/(m_**(\\Sigma/m_H)**(76/51)))**(2/3)/(G*Sigma_tot))**(153/103)*(\\Sigma/(m_H*((E_51**(64/51)*Sigma_SFR*\\delta*(T*gamma*k_B/(m_H*mu))**(1/3)/(m_**(\\Sigma/m_H)**(76/51)))**(2/3)/(G*Sigma_tot))**(153/103)))**(76/51)))**(2/3)/(E_51**(16/51)*Sigma_SFR*\\Omega*\\delta*q*((E_51**(64/51)*Sigma_SFR*\\delta*(T*gamma*k_B/(m_H*mu))**(1/3)/(m_**(\\Sigma/m_H)**(76/51)))**(2/3)/(G*Sigma_tot))**(153/103))"
      ]
     },
     "execution_count": 82,
     "metadata": {},
     "output_type": "execute_result"
    }
   ],
   "source": [
    "tanpb = -((pi**2)*tau*(u**2))/(12*q*omega*(h**2))\n",
    "tanpb = simplify(tanpb)\n",
    "tanpb = tanpb.subs([(tau,tau),(l,l)])\n",
    "tanpb = simplify(tanpb)\n",
    "tanpb"
   ]
  },
  {
   "cell_type": "code",
   "execution_count": 83,
   "metadata": {},
   "outputs": [
    {
     "data": {
      "text/latex": [
       "$\\displaystyle \\frac{0.00308414920432799 \\left(\\frac{\\left(\\frac{E_{51}^{\\frac{64}{51}} \\Sigma_{SFR} T \\delta \\gamma k_{B}}{m_{*} m_{H} \\mu \\left(\\frac{\\Sigma}{m_{H}}\\right)^{\\frac{76}{51}} \\left(\\frac{T \\gamma k_{B}}{m_{H} \\mu}\\right)^{\\frac{2}{3}}}\\right)^{\\frac{2}{3}}}{G \\Sigma_{tot}}\\right)^{\\frac{153}{103}}}{\\pi^{\\frac{51}{103}}}$"
      ],
      "text/plain": [
       "0.00308414920432799*((E_51**(64/51)*Sigma_SFR*T*\\delta*gamma*k_B/(m_**m_H*mu*(\\Sigma/m_H)**(76/51)*(T*gamma*k_B/(m_H*mu))**(2/3)))**(2/3)/(G*Sigma_tot))**(153/103)/pi**(51/103)"
      ]
     },
     "execution_count": 83,
     "metadata": {},
     "output_type": "execute_result"
    }
   ],
   "source": [
    "h"
   ]
  },
  {
   "cell_type": "code",
   "execution_count": 89,
   "metadata": {},
   "outputs": [
    {
     "name": "stdout",
     "output_type": "stream",
     "text": [
      "The power to which the observable Sigma_tot is raised is: 2.66019417475728\n",
      "The power to which the observable \\Sigma is raised is: 2.76699029126214\n",
      "The power to which the observable Sigma_SFR is raised is: -2.10679611650485\n",
      "The power to which the observable \\Omega is raised is: -1.00000000000000\n",
      "The power to which the observable q is raised is: -1.00000000000000\n",
      "The power to which the observable T is raised is: 0.131067961165049\n",
      "The scaling relation is \n"
     ]
    },
    {
     "data": {
      "text/latex": [
       "$\\displaystyle \\frac{\\Sigma_{tot}^{2.66019417475728} T^{0.131067961165049} \\Sigma^{2.76699029126214}}{\\Sigma_{SFR}^{2.10679611650485} \\Omega^{1.0} q^{1.0}}$"
      ],
      "text/plain": [
       "Sigma_tot**2.66019417475728*T**0.131067961165049*\\Sigma**2.76699029126214/(Sigma_SFR**2.10679611650485*\\Omega**1.0*q**1.0)"
      ]
     },
     "execution_count": 89,
     "metadata": {},
     "output_type": "execute_result"
    }
   ],
   "source": [
    "from sympy.plotting import plot3d, plot\n",
    "const = [(gamma,1),(boltz,1),(mh,1),(mu,1),(mach,sqrt(2)),(G,1),(cl,5),(xio,0.4),(kappa,1),(calpha,1), (Rk,1),(mstar,1),(delta,1),(E51,1)]\n",
    "variables = [(sigmatot,1), (sigma,1),(sigmasfr,1) , (omega,1), (q,1), (T,1)]\n",
    "\n",
    "#quantity to be plotted\n",
    "quan = tanpb\n",
    "#observable to be varied\n",
    "observ = [variables[i][0] for i in range(len(variables))]\n",
    "#powers for scaling relations\n",
    "powe = []\n",
    "#plotting the scaling relations\n",
    "for obs in observ:\n",
    "    variables = [(sigmatot,1), (sigma,1),(sigmasfr,1) , (omega,1), (q,1), (T,1)]\n",
    "    variables.remove((obs,1))\n",
    "    final = const + variables\n",
    "    z = quan.subs(final)\n",
    "    powe.append(diff(log(z),obs)*obs)\n",
    "    print('The power to which the observable {} is raised is: {}'.format(str(obs), diff(log(z),obs)*obs))\n",
    "    p = plot(z, (obs, 1, 1000), xscale = 'log', yscale = 'log',xlabel = obs, ylabel = 'Quantity')\n",
    "    p.show\n",
    "    \n",
    "#verifying scaling relation\n",
    "scaling = np.power(observ, powe)\n",
    "relation = 1\n",
    "for i in scaling:\n",
    "    relation *= i\n",
    "\n",
    "print('The scaling relation is ')\n",
    "relation"
   ]
  },
  {
   "cell_type": "code",
   "execution_count": null,
   "metadata": {},
   "outputs": [],
   "source": []
  },
  {
   "cell_type": "code",
   "execution_count": null,
   "metadata": {},
   "outputs": [],
   "source": []
  },
  {
   "cell_type": "code",
   "execution_count": null,
   "metadata": {},
   "outputs": [],
   "source": []
  },
  {
   "cell_type": "code",
   "execution_count": null,
   "metadata": {},
   "outputs": [],
   "source": []
  },
  {
   "cell_type": "code",
   "execution_count": null,
   "metadata": {},
   "outputs": [],
   "source": []
  },
  {
   "cell_type": "code",
   "execution_count": null,
   "metadata": {},
   "outputs": [],
   "source": []
  },
  {
   "cell_type": "code",
   "execution_count": null,
   "metadata": {},
   "outputs": [],
   "source": []
  }
 ],
 "metadata": {
  "kernelspec": {
   "display_name": "Python 3.8.12 ('tensorflow')",
   "language": "python",
   "name": "python3"
  },
  "language_info": {
   "codemirror_mode": {
    "name": "ipython",
    "version": 3
   },
   "file_extension": ".py",
   "mimetype": "text/x-python",
   "name": "python",
   "nbconvert_exporter": "python",
   "pygments_lexer": "ipython3",
   "version": "3.8.12"
  },
  "orig_nbformat": 4,
  "vscode": {
   "interpreter": {
    "hash": "288072cf381227fb2780b277adce38e4e338ecf5ea021577e68ec58525da43f2"
   }
  }
 },
 "nbformat": 4,
 "nbformat_minor": 2
}
