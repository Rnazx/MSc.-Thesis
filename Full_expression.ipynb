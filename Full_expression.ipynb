{
 "cells": [
  {
   "cell_type": "code",
   "execution_count": 1,
   "metadata": {},
   "outputs": [],
   "source": [
    "import numpy as np\n",
    "import matplotlib.pyplot as plt\n",
    "from sympy import *\n",
    "from fractions import Fraction\n",
    "import pickle\n",
    "import os\n",
    "from matplotlib.ticker import FormatStrFormatter"
   ]
  },
  {
   "cell_type": "code",
   "execution_count": 4,
   "metadata": {},
   "outputs": [],
   "source": [
    "# Defining the Observables\n",
    "q = Symbol('q')\n",
    "omega = Symbol('\\Omega')\n",
    "sigma = Symbol('\\Sigma')\n",
    "sigmatot = Symbol('Sigma_tot')\n",
    "sigmasfr = Symbol('Sigma_SFR')\n",
    "T = Symbol('T')\n",
    "\n",
    "\n",
    "# Defining the Constants\n",
    "calpha = Symbol('C_alpha')\n",
    "gamma = Symbol('gamma')\n",
    "boltz = Symbol('k_B')\n",
    "mu = Symbol('mu')\n",
    "mh = Symbol('m_H')\n",
    "G = Symbol('G')\n",
    "xio = Symbol('xi_0')\n",
    "delta = Symbol('\\delta')\n",
    "mstar = Symbol('m_*')\n",
    "cl = Symbol('C_l')\n",
    "kappa = Symbol('kappa')\n",
    "mach = Symbol('M')\n",
    "E51 = Symbol('E_51')\n",
    "Rk = Symbol('R_k')\n",
    "zet = Symbol('zeta')\n",
    "kalpha = Symbol('K_alpha')\n",
    "\n",
    "# Defining the general parameters\n",
    "u = Symbol('u')\n",
    "tau = Symbol('tau')\n",
    "l = Symbol('l')\n",
    "h = Symbol('h')\n",
    "\n",
    "\n",
    "\n",
    "# Defining the expressions\n",
    "cs = (gamma*boltz*T/(mu*mh))**Rational(1/2)\n",
    "# Ralpha = alphak*h/eta\n",
    "# Romega = -q*omega*h**2/eta\n"
   ]
  },
  {
   "cell_type": "code",
   "execution_count": 5,
   "metadata": {},
   "outputs": [
    {
     "data": {
      "text/latex": [
       "$\\displaystyle \\frac{\\zeta \\left(2 T \\gamma k_{B} + 2.01867520949896 \\cdot 10^{59} \\pi^{\\frac{2}{3}} m_{H} \\mu \\left(\\frac{E_{51}^{\\frac{64}{51}} \\Sigma_{SFR} \\delta \\sqrt[3]{\\frac{T \\gamma k_{B}}{m_{H} \\mu}}}{h m_{*} \\left(\\frac{\\Sigma}{h m_{H}}\\right)^{\\frac{76}{51}}}\\right)^{\\frac{2}{3}}\\right)}{3 \\pi G \\Sigma_{tot} m_{H} \\mu}$"
      ],
      "text/plain": [
       "zeta*(2*T*gamma*k_B + 2.01867520949896e+59*pi**(2/3)*m_H*mu*(E_51**(64/51)*Sigma_SFR*\\delta*(T*gamma*k_B/(m_H*mu))**(1/3)/(h*m_**(\\Sigma/(h*m_H))**(76/51)))**(2/3))/(3*pi*G*Sigma_tot*m_H*mu)"
      ]
     },
     "execution_count": 5,
     "metadata": {},
     "output_type": "execute_result"
    }
   ],
   "source": [
    "mpc = 1\n",
    "kpc = 1e+3*mpc\n",
    "kpcm = 3.086e+21\n",
    "pcm = kpcm/1e+3\n",
    "Msun = 1.989e+33\n",
    "kms = 1e+5\n",
    "rho = sigma/(2*h)\n",
    "n = rho/((14/11)*mh)\n",
    "lsn = 0.14*kpcm*(E51)**Fraction(16, 51) * (n/0.1)**Fraction(-19, 51)*(cs/(kms*10))**Fraction(-1, 3)\n",
    "l = (3/10)*lsn\n",
    "l = simplify(l)\n",
    "nu = (delta*sigmasfr)/(2*h*mstar)\n",
    "u = simplify(((4*pi/3)*l*lsn**3*cs**2*nu)**Fraction(1, 3))\n",
    "hs = zet*(u**2 + 2*cs**2)/(3*pi*G*sigmatot)\n",
    "\n",
    "simplify(hs)\n",
    "\n",
    "\n"
   ]
  }
 ],
 "metadata": {
  "kernelspec": {
   "display_name": "tensorflow",
   "language": "python",
   "name": "python3"
  },
  "language_info": {
   "codemirror_mode": {
    "name": "ipython",
    "version": 3
   },
   "file_extension": ".py",
   "mimetype": "text/x-python",
   "name": "python",
   "nbconvert_exporter": "python",
   "pygments_lexer": "ipython3",
   "version": "3.8.12"
  },
  "orig_nbformat": 4,
  "vscode": {
   "interpreter": {
    "hash": "288072cf381227fb2780b277adce38e4e338ecf5ea021577e68ec58525da43f2"
   }
  }
 },
 "nbformat": 4,
 "nbformat_minor": 2
}
